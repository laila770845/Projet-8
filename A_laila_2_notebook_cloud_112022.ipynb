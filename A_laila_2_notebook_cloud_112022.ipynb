{
 "cells": [
  {
   "cell_type": "markdown",
   "id": "35fb7ba1",
   "metadata": {},
   "source": [
    "# <center> <font color=\"#8333ff\"> Projet8 : Déployez un modèle dans le cloud </font></center>"
   ]
  },
  {
   "cell_type": "markdown",
   "id": "5473107b",
   "metadata": {},
   "source": [
    "## Problématique : \n",
    "\n",
    "Vous êtes Data Scientist dans une très jeune start-up de l'AgriTech, nommée  **\"Fruits!\"**, qui cherche à proposer des \n",
    "solutions innovantes pour la récolte des fruits.\n",
    "Cette entreprise souhaite dans un premier temps se faire connaître en mettant à disposition du grand public une application\n",
    "mobile qui permettrait aux utilisateurs de prendre en photo un fruit et d'obtenir des informations sur ce fruit.\n",
    "Le développement de l’application mobile permettra de construire **une première version de l'architecture Big Data \n",
    "nécessaire.**"
   ]
  },
  {
   "cell_type": "markdown",
   "id": "cefcbae3",
   "metadata": {},
   "source": [
    "## Mission :\n",
    "Vous êtes donc chargé de développer dans un environnement Big Data une première chaîne de traitement des données qui \n",
    "comprendra le preprocessing et une étape de réduction de dimension."
   ]
  },
  {
   "cell_type": "markdown",
   "metadata": {},
   "source": [
    "## <font color=\"blue\">Sommaire</font>\n",
    "\n",
    "1. [Point de départ : la session Spark](#section_1)   \n",
    "2. [Chargement et Lecture des données](#section_2)              \n",
    "3. [Utilisation d'un modèle pré-entrainé ResNet50 ](#section_3) </br>\n",
    "4. [Préprocessing et création des features](#section_4) </br>\n",
    "5. [Réduction de dimension](#section_5) </br>\n",
    "6. [Sauvegarde des données au format paquet ](#section_6) </br>\n"
   ]
  },
  {
   "cell_type": "markdown",
   "metadata": {},
   "source": [
    "Dans ce notebook, nous allons manipuler un faible jeu de données, de 10 images seulement, pour tester si nos codes fonctionnent,\n",
    "puis nous augmenteront le nombre d'images. "
   ]
  },
  {
   "cell_type": "markdown",
   "metadata": {},
   "source": [
    "Commençons par télécharger nos images à l'aide de awscli.<br>\n",
    "Nous allons utilisé la commande suivante pour créer un dossier dans notre s3 : **aws s3 mb \"s3://projet8-fruits-s3v2\"** <br>\n",
    "Puis nous chargerons (et mettons à jour en maintenant) s3 avec le dossier contenant nos images en local en utilisant la \n",
    "commande suivante :<br>\n",
    "    **aws s3 sync \"C:\\Users\\laila\\images\" \"s3://projet8-fruits-s3v2\"** <br>\n"
   ]
  },
  {
   "cell_type": "code",
   "execution_count": 1,
   "id": "4f7a5256",
   "metadata": {
    "scrolled": false
   },
   "outputs": [
    {
     "data": {
      "text/html": [
       "Current session configs: <tt>{'driverMemory': '1000M', 'executorCores': 2, 'proxyUser': 'jovyan', 'kind': 'pyspark'}</tt><br>"
      ],
      "text/plain": [
       "<IPython.core.display.HTML object>"
      ]
     },
     "metadata": {},
     "output_type": "display_data"
    },
    {
     "data": {
      "text/html": [
       "No active sessions."
      ],
      "text/plain": [
       "<IPython.core.display.HTML object>"
      ]
     },
     "metadata": {},
     "output_type": "display_data"
    }
   ],
   "source": [
    "%%info"
   ]
  },
  {
   "cell_type": "markdown",
   "metadata": {},
   "source": [
    "## <font color=\"red\" id=\"section_1\">1.  Point de départ : la session Spark </font>"
   ]
  },
  {
   "cell_type": "markdown",
   "id": "024e0e3f",
   "metadata": {},
   "source": [
    "On importe aussi la librairie nécessaire pour notre projet."
   ]
  },
  {
   "cell_type": "code",
   "execution_count": 2,
   "id": "8f14e3d7",
   "metadata": {},
   "outputs": [
    {
     "name": "stdout",
     "output_type": "stream",
     "text": [
      "Starting Spark application\n"
     ]
    },
    {
     "data": {
      "text/html": [
       "<table>\n",
       "<tr><th>ID</th><th>YARN Application ID</th><th>Kind</th><th>State</th><th>Spark UI</th><th>Driver log</th><th>Current session?</th></tr><tr><td>0</td><td>application_1667647930120_0001</td><td>pyspark</td><td>idle</td><td><a target=\"_blank\" href=\"http://ip-172-31-17-123.eu-west-3.compute.internal:20888/proxy/application_1667647930120_0001/\">Link</a></td><td><a target=\"_blank\" href=\"http://ip-172-31-23-152.eu-west-3.compute.internal:8042/node/containerlogs/container_1667647930120_0001_01_000001/livy\">Link</a></td><td>✔</td></tr></table>"
      ],
      "text/plain": [
       "<IPython.core.display.HTML object>"
      ]
     },
     "metadata": {},
     "output_type": "display_data"
    },
    {
     "data": {
      "application/vnd.jupyter.widget-view+json": {
       "model_id": "",
       "version_major": 2,
       "version_minor": 0
      },
      "text/plain": [
       "FloatProgress(value=0.0, bar_style='info', description='Progress:', layout=Layout(height='25px', width='50%'),…"
      ]
     },
     "metadata": {},
     "output_type": "display_data"
    },
    {
     "name": "stdout",
     "output_type": "stream",
     "text": [
      "SparkSession available as 'spark'.\n"
     ]
    },
    {
     "data": {
      "application/vnd.jupyter.widget-view+json": {
       "model_id": "",
       "version_major": 2,
       "version_minor": 0
      },
      "text/plain": [
       "FloatProgress(value=0.0, bar_style='info', description='Progress:', layout=Layout(height='25px', width='50%'),…"
      ]
     },
     "metadata": {},
     "output_type": "display_data"
    }
   ],
   "source": [
    "from pyspark.sql.functions import *"
   ]
  },
  {
   "cell_type": "code",
   "execution_count": 3,
   "id": "73ad7e01",
   "metadata": {},
   "outputs": [
    {
     "data": {
      "application/vnd.jupyter.widget-view+json": {
       "model_id": "",
       "version_major": 2,
       "version_minor": 0
      },
      "text/plain": [
       "FloatProgress(value=0.0, bar_style='info', description='Progress:', layout=Layout(height='25px', width='50%'),…"
      ]
     },
     "metadata": {},
     "output_type": "display_data"
    }
   ],
   "source": [
    "#Pyspark\n",
    "from pyspark import SparkContext, SparkConf\n",
    "\n",
    "from pyspark.ml.feature import StandardScaler, StringIndexer\n",
    "\n",
    "from pyspark.sql import Window\n",
    "from pyspark.sql import SparkSession\n",
    "from pyspark.sql.types import ArrayType, IntegerType, FloatType, StringType\n",
    "from pyspark.sql.functions import split, col, udf\n",
    "from pyspark.sql.functions import pandas_udf, PandasUDFType\n",
    "from pyspark.sql.functions import element_at\n",
    "from pyspark.sql.functions import monotonically_increasing_id, row_number\n",
    "\n",
    "from pyspark.ml.linalg import Vectors, VectorUDT"
   ]
  },
  {
   "cell_type": "markdown",
   "id": "b20c32d0",
   "metadata": {},
   "source": [
    "## <font color=\"red\" id=\"section_2\">2. Chargement et Lecture des données </font>"
   ]
  },
  {
   "cell_type": "markdown",
   "metadata": {},
   "source": [
    "Nous allons charger et lire les données, contenues dans s3, dans un spark dataframe que nous nommerons data_img."
   ]
  },
  {
   "cell_type": "code",
   "execution_count": 4,
   "id": "7507930f",
   "metadata": {},
   "outputs": [
    {
     "data": {
      "application/vnd.jupyter.widget-view+json": {
       "model_id": "",
       "version_major": 2,
       "version_minor": 0
      },
      "text/plain": [
       "FloatProgress(value=0.0, bar_style='info', description='Progress:', layout=Layout(height='25px', width='50%'),…"
      ]
     },
     "metadata": {},
     "output_type": "display_data"
    }
   ],
   "source": [
    "#Lecture des données images \n",
    "data_img = spark.read.format(\"binaryFile\") \\\n",
    "  .option(\"pathGlobFilter\", \"*.jpg\") \\\n",
    "  .option(\"recursiveFileLookup\", \"true\") \\\n",
    "  .load(\"s3a://projet8-fruits-s3v2/fruits/\")"
   ]
  },
  {
   "cell_type": "markdown",
   "metadata": {},
   "source": [
    "Nous allons maintenant exécuter cette commande en montrant cette dataframe."
   ]
  },
  {
   "cell_type": "code",
   "execution_count": 5,
   "metadata": {},
   "outputs": [
    {
     "data": {
      "application/vnd.jupyter.widget-view+json": {
       "model_id": "",
       "version_major": 2,
       "version_minor": 0
      },
      "text/plain": [
       "FloatProgress(value=0.0, bar_style='info', description='Progress:', layout=Layout(height='25px', width='50%'),…"
      ]
     },
     "metadata": {},
     "output_type": "display_data"
    },
    {
     "name": "stdout",
     "output_type": "stream",
     "text": [
      "+--------------------+-------------------+------+--------------------+\n",
      "|                path|   modificationTime|length|             content|\n",
      "+--------------------+-------------------+------+--------------------+\n",
      "|s3a://projet8-fru...|2022-11-05 11:10:07|  6867|[FF D8 FF E0 00 1...|\n",
      "|s3a://projet8-fru...|2022-11-05 11:10:07|  6855|[FF D8 FF E0 00 1...|\n",
      "|s3a://projet8-fru...|2022-11-05 11:10:07|  6852|[FF D8 FF E0 00 1...|\n",
      "|s3a://projet8-fru...|2022-11-05 11:10:07|  6831|[FF D8 FF E0 00 1...|\n",
      "|s3a://projet8-fru...|2022-11-05 11:10:07|  6828|[FF D8 FF E0 00 1...|\n",
      "|s3a://projet8-fru...|2022-11-05 11:10:07|  5688|[FF D8 FF E0 00 1...|\n",
      "|s3a://projet8-fru...|2022-11-05 11:10:07|  5684|[FF D8 FF E0 00 1...|\n",
      "|s3a://projet8-fru...|2022-11-05 11:10:07|  5675|[FF D8 FF E0 00 1...|\n",
      "|s3a://projet8-fru...|2022-11-05 11:10:07|  5648|[FF D8 FF E0 00 1...|\n",
      "|s3a://projet8-fru...|2022-11-05 11:10:07|  5615|[FF D8 FF E0 00 1...|\n",
      "+--------------------+-------------------+------+--------------------+\n",
      "only showing top 10 rows"
     ]
    }
   ],
   "source": [
    "data_img.show(10)"
   ]
  },
  {
   "cell_type": "code",
   "execution_count": 6,
   "metadata": {},
   "outputs": [
    {
     "data": {
      "application/vnd.jupyter.widget-view+json": {
       "model_id": "",
       "version_major": 2,
       "version_minor": 0
      },
      "text/plain": [
       "FloatProgress(value=0.0, bar_style='info', description='Progress:', layout=Layout(height='25px', width='50%'),…"
      ]
     },
     "metadata": {},
     "output_type": "display_data"
    },
    {
     "name": "stdout",
     "output_type": "stream",
     "text": [
      "root\n",
      " |-- path: string (nullable = true)\n",
      " |-- modificationTime: timestamp (nullable = true)\n",
      " |-- length: long (nullable = true)\n",
      " |-- content: binary (nullable = true)\n",
      " |-- fruit: string (nullable = true)\n",
      "\n",
      "None"
     ]
    }
   ],
   "source": [
    "#On ajoute une nouvelle colonne 'fruit' à l'aide du nom du fruit présent dans 'path'\n",
    "data_img = data_img.withColumn('fruit', element_at(split(data_img['path'], '/'),-2))\n",
    "\n",
    "#On affiche le schema de nos manipulations\n",
    "print(data_img.printSchema())"
   ]
  },
  {
   "cell_type": "code",
   "execution_count": 7,
   "metadata": {},
   "outputs": [
    {
     "data": {
      "application/vnd.jupyter.widget-view+json": {
       "model_id": "",
       "version_major": 2,
       "version_minor": 0
      },
      "text/plain": [
       "FloatProgress(value=0.0, bar_style='info', description='Progress:', layout=Layout(height='25px', width='50%'),…"
      ]
     },
     "metadata": {},
     "output_type": "display_data"
    },
    {
     "name": "stdout",
     "output_type": "stream",
     "text": [
      "+--------------------+----------+--------------------+\n",
      "|                path|     fruit|             content|\n",
      "+--------------------+----------+--------------------+\n",
      "|s3a://projet8-fru...|Watermelon|[FF D8 FF E0 00 1...|\n",
      "|s3a://projet8-fru...|Watermelon|[FF D8 FF E0 00 1...|\n",
      "|s3a://projet8-fru...|Watermelon|[FF D8 FF E0 00 1...|\n",
      "|s3a://projet8-fru...|Watermelon|[FF D8 FF E0 00 1...|\n",
      "|s3a://projet8-fru...|Watermelon|[FF D8 FF E0 00 1...|\n",
      "|s3a://projet8-fru...|Strawberry|[FF D8 FF E0 00 1...|\n",
      "|s3a://projet8-fru...|Strawberry|[FF D8 FF E0 00 1...|\n",
      "|s3a://projet8-fru...|Strawberry|[FF D8 FF E0 00 1...|\n",
      "|s3a://projet8-fru...|Strawberry|[FF D8 FF E0 00 1...|\n",
      "|s3a://projet8-fru...|Strawberry|[FF D8 FF E0 00 1...|\n",
      "+--------------------+----------+--------------------+\n",
      "only showing top 10 rows"
     ]
    }
   ],
   "source": [
    "#On ne sélectionne que \"path\",\"fruit\",\"content\" dans notre spark dataframe\n",
    "data_img = data_img.select('path','fruit','content')\n",
    "data_img.show(10)"
   ]
  },
  {
   "cell_type": "code",
   "execution_count": 8,
   "id": "c7acdefb",
   "metadata": {},
   "outputs": [
    {
     "data": {
      "application/vnd.jupyter.widget-view+json": {
       "model_id": "",
       "version_major": 2,
       "version_minor": 0
      },
      "text/plain": [
       "FloatProgress(value=0.0, bar_style='info', description='Progress:', layout=Layout(height='25px', width='50%'),…"
      ]
     },
     "metadata": {},
     "output_type": "display_data"
    },
    {
     "name": "stdout",
     "output_type": "stream",
     "text": [
      "61"
     ]
    }
   ],
   "source": [
    "#On vérifie le nombre d'images\n",
    "data_img.count()"
   ]
  },
  {
   "cell_type": "code",
   "execution_count": 9,
   "id": "06b96f31",
   "metadata": {},
   "outputs": [
    {
     "data": {
      "application/vnd.jupyter.widget-view+json": {
       "model_id": "",
       "version_major": 2,
       "version_minor": 0
      },
      "text/plain": [
       "FloatProgress(value=0.0, bar_style='info', description='Progress:', layout=Layout(height='25px', width='50%'),…"
      ]
     },
     "metadata": {},
     "output_type": "display_data"
    },
    {
     "name": "stdout",
     "output_type": "stream",
     "text": [
      "<PIL.JpegImagePlugin.JpegImageFile image mode=RGB size=100x100 at 0x7F8A827B0990>"
     ]
    }
   ],
   "source": [
    "from PIL import Image\n",
    "import io\n",
    "\n",
    "#collect permet simplement de lancer l’évaluation effective des transformations en amont.\n",
    "collect = data_img.select('content').collect()\n",
    "\n",
    "#image située dans la première ligne, première colonne\n",
    "image1 = collect[0][0]\n",
    "image_1 =Image.open(io.BytesIO(image1 ))\n",
    "image_1\n"
   ]
  },
  {
   "cell_type": "code",
   "execution_count": 10,
   "id": "71600362",
   "metadata": {},
   "outputs": [
    {
     "data": {
      "application/vnd.jupyter.widget-view+json": {
       "model_id": "",
       "version_major": 2,
       "version_minor": 0
      },
      "text/plain": [
       "FloatProgress(value=0.0, bar_style='info', description='Progress:', layout=Layout(height='25px', width='50%'),…"
      ]
     },
     "metadata": {},
     "output_type": "display_data"
    },
    {
     "name": "stdout",
     "output_type": "stream",
     "text": [
      "(100, 100)"
     ]
    }
   ],
   "source": [
    "#Taille de l'image 1\n",
    "image_1.size"
   ]
  },
  {
   "cell_type": "markdown",
   "metadata": {},
   "source": [
    "## <font color=\"red\" id=\"section_3\"> 3. Utilisation d'un modèle pré-entrainé MobileNetV2 </font>"
   ]
  },
  {
   "cell_type": "markdown",
   "metadata": {},
   "source": [
    "Nous allons utiliséun algotirhme de transfer learning, mais aussi modèle pré-entrainé \n",
    "sur une multitude d'images puisque nous ne devons pas, dans ce projet, entrainé un modèle.\n",
    "Prenons le modèle CNN Réseau de neurones MobileNetV2."
   ]
  },
  {
   "cell_type": "markdown",
   "metadata": {},
   "source": [
    "Les modèles de type MobileNet sont conçus pour fonctionner sur des appareils à fortes contraintes en termes de \n",
    "performances tels que les smartphones. MobileNetV2 est un modèle très efficace pour la détection et la segmentation \n",
    "d'objets.\n",
    "\n",
    "MobileNetV2 est un réseau neuronal convolutif. \n",
    "Cette fonction renvoie un modèle de classification d'images Keras, éventuellement chargé avec des poids pré-formés sur ImageNet.\n",
    "Vous pouvez charger une version pré-entraînée du réseau formée sur plus d'un million d'images à partir \n",
    "de la base de données ImageNet [1] . Le réseau pré-entraîné peut classer les images en 1000 catégories d'objets,\n",
    "telles que les fruits, le clavier, la souris, le crayon et de nombreux animaux. En conséquence, le réseau a appris des\n",
    "représentations de caractéristiques riches pour une large gamme d'images. Le réseau a une taille d'entrée d'image\n",
    "de 224 par 224. \n",
    "\n"
   ]
  },
  {
   "cell_type": "code",
   "execution_count": 11,
   "id": "992008b0",
   "metadata": {
    "scrolled": true
   },
   "outputs": [
    {
     "data": {
      "application/vnd.jupyter.widget-view+json": {
       "model_id": "",
       "version_major": 2,
       "version_minor": 0
      },
      "text/plain": [
       "FloatProgress(value=0.0, bar_style='info', description='Progress:', layout=Layout(height='25px', width='50%'),…"
      ]
     },
     "metadata": {},
     "output_type": "display_data"
    },
    {
     "name": "stdout",
     "output_type": "stream",
     "text": [
      "Downloading data from https://storage.googleapis.com/tensorflow/keras-applications/mobilenet_v2/mobilenet_v2_weights_tf_dim_ordering_tf_kernels_1.0_224.h5\n",
      "14540800/14536120 [==============================] - 0s 0us/step"
     ]
    }
   ],
   "source": [
    "import tensorflow as tf\n",
    "from tensorflow.keras.applications.mobilenet_v2 import MobileNetV2, preprocess_input\n",
    "\n",
    "#'imagenet' : pré-formation sur ImageNet\n",
    "#pooling='avg' : la mise en commun moyenne globale sera appliquée à la sortie du dernier bloc convolutionnel,\n",
    "#et donc la sortie du modèle sera un tenseur 2D.\n",
    "model = MobileNetV2(weights='imagenet',\n",
    "                    include_top=True,\n",
    "                    input_shape=(224, 224, 3))\n"
   ]
  },
  {
   "cell_type": "code",
   "execution_count": 13,
   "metadata": {},
   "outputs": [
    {
     "data": {
      "application/vnd.jupyter.widget-view+json": {
       "model_id": "",
       "version_major": 2,
       "version_minor": 0
      },
      "text/plain": [
       "FloatProgress(value=0.0, bar_style='info', description='Progress:', layout=Layout(height='25px', width='50%'),…"
      ]
     },
     "metadata": {},
     "output_type": "display_data"
    }
   ],
   "source": [
    "from tensorflow.keras import Model\n",
    "\n",
    "modelv2 = Model(inputs=model.input,\n",
    "                  outputs=model.layers[-2].output)"
   ]
  },
  {
   "cell_type": "code",
   "execution_count": 14,
   "metadata": {},
   "outputs": [
    {
     "data": {
      "application/vnd.jupyter.widget-view+json": {
       "model_id": "",
       "version_major": 2,
       "version_minor": 0
      },
      "text/plain": [
       "FloatProgress(value=0.0, bar_style='info', description='Progress:', layout=Layout(height='25px', width='50%'),…"
      ]
     },
     "metadata": {},
     "output_type": "display_data"
    },
    {
     "name": "stdout",
     "output_type": "stream",
     "text": [
      "Model: \"model\"\n",
      "__________________________________________________________________________________________________\n",
      "Layer (type)                    Output Shape         Param #     Connected to                     \n",
      "==================================================================================================\n",
      "input_1 (InputLayer)            [(None, 224, 224, 3) 0                                            \n",
      "__________________________________________________________________________________________________\n",
      "Conv1 (Conv2D)                  (None, 112, 112, 32) 864         input_1[0][0]                    \n",
      "__________________________________________________________________________________________________\n",
      "bn_Conv1 (BatchNormalization)   (None, 112, 112, 32) 128         Conv1[0][0]                      \n",
      "__________________________________________________________________________________________________\n",
      "Conv1_relu (ReLU)               (None, 112, 112, 32) 0           bn_Conv1[0][0]                   \n",
      "__________________________________________________________________________________________________\n",
      "expanded_conv_depthwise (Depthw (None, 112, 112, 32) 288         Conv1_relu[0][0]                 \n",
      "__________________________________________________________________________________________________\n",
      "expanded_conv_depthwise_BN (Bat (None, 112, 112, 32) 128         expanded_conv_depthwise[0][0]    \n",
      "__________________________________________________________________________________________________\n",
      "expanded_conv_depthwise_relu (R (None, 112, 112, 32) 0           expanded_conv_depthwise_BN[0][0] \n",
      "__________________________________________________________________________________________________\n",
      "expanded_conv_project (Conv2D)  (None, 112, 112, 16) 512         expanded_conv_depthwise_relu[0][0\n",
      "__________________________________________________________________________________________________\n",
      "expanded_conv_project_BN (Batch (None, 112, 112, 16) 64          expanded_conv_project[0][0]      \n",
      "__________________________________________________________________________________________________\n",
      "block_1_expand (Conv2D)         (None, 112, 112, 96) 1536        expanded_conv_project_BN[0][0]   \n",
      "__________________________________________________________________________________________________\n",
      "block_1_expand_BN (BatchNormali (None, 112, 112, 96) 384         block_1_expand[0][0]             \n",
      "__________________________________________________________________________________________________\n",
      "block_1_expand_relu (ReLU)      (None, 112, 112, 96) 0           block_1_expand_BN[0][0]          \n",
      "__________________________________________________________________________________________________\n",
      "block_1_pad (ZeroPadding2D)     (None, 113, 113, 96) 0           block_1_expand_relu[0][0]        \n",
      "__________________________________________________________________________________________________\n",
      "block_1_depthwise (DepthwiseCon (None, 56, 56, 96)   864         block_1_pad[0][0]                \n",
      "__________________________________________________________________________________________________\n",
      "block_1_depthwise_BN (BatchNorm (None, 56, 56, 96)   384         block_1_depthwise[0][0]          \n",
      "__________________________________________________________________________________________________\n",
      "block_1_depthwise_relu (ReLU)   (None, 56, 56, 96)   0           block_1_depthwise_BN[0][0]       \n",
      "__________________________________________________________________________________________________\n",
      "block_1_project (Conv2D)        (None, 56, 56, 24)   2304        block_1_depthwise_relu[0][0]     \n",
      "__________________________________________________________________________________________________\n",
      "block_1_project_BN (BatchNormal (None, 56, 56, 24)   96          block_1_project[0][0]            \n",
      "__________________________________________________________________________________________________\n",
      "block_2_expand (Conv2D)         (None, 56, 56, 144)  3456        block_1_project_BN[0][0]         \n",
      "__________________________________________________________________________________________________\n",
      "block_2_expand_BN (BatchNormali (None, 56, 56, 144)  576         block_2_expand[0][0]             \n",
      "__________________________________________________________________________________________________\n",
      "block_2_expand_relu (ReLU)      (None, 56, 56, 144)  0           block_2_expand_BN[0][0]          \n",
      "__________________________________________________________________________________________________\n",
      "block_2_depthwise (DepthwiseCon (None, 56, 56, 144)  1296        block_2_expand_relu[0][0]        \n",
      "__________________________________________________________________________________________________\n",
      "block_2_depthwise_BN (BatchNorm (None, 56, 56, 144)  576         block_2_depthwise[0][0]          \n",
      "__________________________________________________________________________________________________\n",
      "block_2_depthwise_relu (ReLU)   (None, 56, 56, 144)  0           block_2_depthwise_BN[0][0]       \n",
      "__________________________________________________________________________________________________\n",
      "block_2_project (Conv2D)        (None, 56, 56, 24)   3456        block_2_depthwise_relu[0][0]     \n",
      "__________________________________________________________________________________________________\n",
      "block_2_project_BN (BatchNormal (None, 56, 56, 24)   96          block_2_project[0][0]            \n",
      "__________________________________________________________________________________________________\n",
      "block_2_add (Add)               (None, 56, 56, 24)   0           block_1_project_BN[0][0]         \n",
      "                                                                 block_2_project_BN[0][0]         \n",
      "__________________________________________________________________________________________________\n",
      "block_3_expand (Conv2D)         (None, 56, 56, 144)  3456        block_2_add[0][0]                \n",
      "__________________________________________________________________________________________________\n",
      "block_3_expand_BN (BatchNormali (None, 56, 56, 144)  576         block_3_expand[0][0]             \n",
      "__________________________________________________________________________________________________\n",
      "block_3_expand_relu (ReLU)      (None, 56, 56, 144)  0           block_3_expand_BN[0][0]          \n",
      "__________________________________________________________________________________________________\n",
      "block_3_pad (ZeroPadding2D)     (None, 57, 57, 144)  0           block_3_expand_relu[0][0]        \n",
      "__________________________________________________________________________________________________\n",
      "block_3_depthwise (DepthwiseCon (None, 28, 28, 144)  1296        block_3_pad[0][0]                \n",
      "__________________________________________________________________________________________________\n",
      "block_3_depthwise_BN (BatchNorm (None, 28, 28, 144)  576         block_3_depthwise[0][0]          \n",
      "__________________________________________________________________________________________________\n",
      "block_3_depthwise_relu (ReLU)   (None, 28, 28, 144)  0           block_3_depthwise_BN[0][0]       \n",
      "__________________________________________________________________________________________________\n",
      "block_3_project (Conv2D)        (None, 28, 28, 32)   4608        block_3_depthwise_relu[0][0]     \n",
      "__________________________________________________________________________________________________\n",
      "block_3_project_BN (BatchNormal (None, 28, 28, 32)   128         block_3_project[0][0]            \n",
      "__________________________________________________________________________________________________\n",
      "block_4_expand (Conv2D)         (None, 28, 28, 192)  6144        block_3_project_BN[0][0]         \n",
      "__________________________________________________________________________________________________\n",
      "block_4_expand_BN (BatchNormali (None, 28, 28, 192)  768         block_4_expand[0][0]             \n",
      "__________________________________________________________________________________________________\n",
      "block_4_expand_relu (ReLU)      (None, 28, 28, 192)  0           block_4_expand_BN[0][0]          \n",
      "__________________________________________________________________________________________________\n",
      "block_4_depthwise (DepthwiseCon (None, 28, 28, 192)  1728        block_4_expand_relu[0][0]        \n",
      "__________________________________________________________________________________________________\n",
      "block_4_depthwise_BN (BatchNorm (None, 28, 28, 192)  768         block_4_depthwise[0][0]          \n",
      "__________________________________________________________________________________________________\n",
      "block_4_depthwise_relu (ReLU)   (None, 28, 28, 192)  0           block_4_depthwise_BN[0][0]       \n",
      "__________________________________________________________________________________________________\n",
      "block_4_project (Conv2D)        (None, 28, 28, 32)   6144        block_4_depthwise_relu[0][0]     \n",
      "__________________________________________________________________________________________________\n",
      "block_4_project_BN (BatchNormal (None, 28, 28, 32)   128         block_4_project[0][0]            \n",
      "__________________________________________________________________________________________________\n",
      "block_4_add (Add)               (None, 28, 28, 32)   0           block_3_project_BN[0][0]         \n",
      "                                                                 block_4_project_BN[0][0]         \n",
      "__________________________________________________________________________________________________\n",
      "block_5_expand (Conv2D)         (None, 28, 28, 192)  6144        block_4_add[0][0]                \n",
      "__________________________________________________________________________________________________\n",
      "block_5_expand_BN (BatchNormali (None, 28, 28, 192)  768         block_5_expand[0][0]             \n",
      "__________________________________________________________________________________________________\n",
      "block_5_expand_relu (ReLU)      (None, 28, 28, 192)  0           block_5_expand_BN[0][0]          \n",
      "__________________________________________________________________________________________________\n",
      "block_5_depthwise (DepthwiseCon (None, 28, 28, 192)  1728        block_5_expand_relu[0][0]        \n",
      "__________________________________________________________________________________________________\n",
      "block_5_depthwise_BN (BatchNorm (None, 28, 28, 192)  768         block_5_depthwise[0][0]          \n",
      "__________________________________________________________________________________________________\n",
      "block_5_depthwise_relu (ReLU)   (None, 28, 28, 192)  0           block_5_depthwise_BN[0][0]       \n",
      "__________________________________________________________________________________________________\n",
      "block_5_project (Conv2D)        (None, 28, 28, 32)   6144        block_5_depthwise_relu[0][0]     \n",
      "__________________________________________________________________________________________________\n",
      "block_5_project_BN (BatchNormal (None, 28, 28, 32)   128         block_5_project[0][0]            \n",
      "__________________________________________________________________________________________________\n",
      "block_5_add (Add)               (None, 28, 28, 32)   0           block_4_add[0][0]                \n",
      "                                                                 block_5_project_BN[0][0]         \n",
      "__________________________________________________________________________________________________\n",
      "block_6_expand (Conv2D)         (None, 28, 28, 192)  6144        block_5_add[0][0]                \n",
      "__________________________________________________________________________________________________\n",
      "block_6_expand_BN (BatchNormali (None, 28, 28, 192)  768         block_6_expand[0][0]             \n",
      "__________________________________________________________________________________________________\n",
      "block_6_expand_relu (ReLU)      (None, 28, 28, 192)  0           block_6_expand_BN[0][0]          \n",
      "__________________________________________________________________________________________________\n",
      "block_6_pad (ZeroPadding2D)     (None, 29, 29, 192)  0           block_6_expand_relu[0][0]        \n",
      "__________________________________________________________________________________________________\n",
      "block_6_depthwise (DepthwiseCon (None, 14, 14, 192)  1728        block_6_pad[0][0]                \n",
      "__________________________________________________________________________________________________\n",
      "block_6_depthwise_BN (BatchNorm (None, 14, 14, 192)  768         block_6_depthwise[0][0]          \n",
      "__________________________________________________________________________________________________\n",
      "block_6_depthwise_relu (ReLU)   (None, 14, 14, 192)  0           block_6_depthwise_BN[0][0]       \n",
      "__________________________________________________________________________________________________\n",
      "block_6_project (Conv2D)        (None, 14, 14, 64)   12288       block_6_depthwise_relu[0][0]     \n",
      "__________________________________________________________________________________________________\n",
      "block_6_project_BN (BatchNormal (None, 14, 14, 64)   256         block_6_project[0][0]            \n",
      "__________________________________________________________________________________________________\n",
      "block_7_expand (Conv2D)         (None, 14, 14, 384)  24576       block_6_project_BN[0][0]         \n",
      "__________________________________________________________________________________________________\n",
      "block_7_expand_BN (BatchNormali (None, 14, 14, 384)  1536        block_7_expand[0][0]             \n",
      "__________________________________________________________________________________________________\n",
      "block_7_expand_relu (ReLU)      (None, 14, 14, 384)  0           block_7_expand_BN[0][0]          \n",
      "__________________________________________________________________________________________________\n",
      "block_7_depthwise (DepthwiseCon (None, 14, 14, 384)  3456        block_7_expand_relu[0][0]        \n",
      "__________________________________________________________________________________________________\n",
      "block_7_depthwise_BN (BatchNorm (None, 14, 14, 384)  1536        block_7_depthwise[0][0]          \n",
      "__________________________________________________________________________________________________\n",
      "block_7_depthwise_relu (ReLU)   (None, 14, 14, 384)  0           block_7_depthwise_BN[0][0]       \n",
      "__________________________________________________________________________________________________\n",
      "block_7_project (Conv2D)        (None, 14, 14, 64)   24576       block_7_depthwise_relu[0][0]     \n",
      "__________________________________________________________________________________________________\n",
      "block_7_project_BN (BatchNormal (None, 14, 14, 64)   256         block_7_project[0][0]            \n",
      "__________________________________________________________________________________________________\n",
      "block_7_add (Add)               (None, 14, 14, 64)   0           block_6_project_BN[0][0]         \n",
      "                                                                 block_7_project_BN[0][0]         \n",
      "__________________________________________________________________________________________________\n",
      "block_8_expand (Conv2D)         (None, 14, 14, 384)  24576       block_7_add[0][0]                \n",
      "__________________________________________________________________________________________________\n",
      "block_8_expand_BN (BatchNormali (None, 14, 14, 384)  1536        block_8_expand[0][0]             \n",
      "__________________________________________________________________________________________________\n",
      "block_8_expand_relu (ReLU)      (None, 14, 14, 384)  0           block_8_expand_BN[0][0]          \n",
      "__________________________________________________________________________________________________\n",
      "block_8_depthwise (DepthwiseCon (None, 14, 14, 384)  3456        block_8_expand_relu[0][0]        \n",
      "__________________________________________________________________________________________________\n",
      "block_8_depthwise_BN (BatchNorm (None, 14, 14, 384)  1536        block_8_depthwise[0][0]          \n",
      "__________________________________________________________________________________________________\n",
      "block_8_depthwise_relu (ReLU)   (None, 14, 14, 384)  0           block_8_depthwise_BN[0][0]       \n",
      "__________________________________________________________________________________________________\n",
      "block_8_project (Conv2D)        (None, 14, 14, 64)   24576       block_8_depthwise_relu[0][0]     \n",
      "__________________________________________________________________________________________________\n",
      "block_8_project_BN (BatchNormal (None, 14, 14, 64)   256         block_8_project[0][0]            \n",
      "__________________________________________________________________________________________________\n",
      "block_8_add (Add)               (None, 14, 14, 64)   0           block_7_add[0][0]                \n",
      "                                                                 block_8_project_BN[0][0]         \n",
      "__________________________________________________________________________________________________\n",
      "block_9_expand (Conv2D)         (None, 14, 14, 384)  24576       block_8_add[0][0]                \n",
      "__________________________________________________________________________________________________\n",
      "block_9_expand_BN (BatchNormali (None, 14, 14, 384)  1536        block_9_expand[0][0]             \n",
      "__________________________________________________________________________________________________\n",
      "block_9_expand_relu (ReLU)      (None, 14, 14, 384)  0           block_9_expand_BN[0][0]          \n",
      "__________________________________________________________________________________________________\n",
      "block_9_depthwise (DepthwiseCon (None, 14, 14, 384)  3456        block_9_expand_relu[0][0]        \n",
      "__________________________________________________________________________________________________\n",
      "block_9_depthwise_BN (BatchNorm (None, 14, 14, 384)  1536        block_9_depthwise[0][0]          \n",
      "__________________________________________________________________________________________________\n",
      "block_9_depthwise_relu (ReLU)   (None, 14, 14, 384)  0           block_9_depthwise_BN[0][0]       \n",
      "__________________________________________________________________________________________________\n",
      "block_9_project (Conv2D)        (None, 14, 14, 64)   24576       block_9_depthwise_relu[0][0]     \n",
      "__________________________________________________________________________________________________\n",
      "block_9_project_BN (BatchNormal (None, 14, 14, 64)   256         block_9_project[0][0]            \n",
      "__________________________________________________________________________________________________\n",
      "block_9_add (Add)               (None, 14, 14, 64)   0           block_8_add[0][0]                \n",
      "                                                                 block_9_project_BN[0][0]         \n",
      "__________________________________________________________________________________________________\n",
      "block_10_expand (Conv2D)        (None, 14, 14, 384)  24576       block_9_add[0][0]                \n",
      "__________________________________________________________________________________________________\n",
      "block_10_expand_BN (BatchNormal (None, 14, 14, 384)  1536        block_10_expand[0][0]            \n",
      "__________________________________________________________________________________________________\n",
      "block_10_expand_relu (ReLU)     (None, 14, 14, 384)  0           block_10_expand_BN[0][0]         \n",
      "__________________________________________________________________________________________________\n",
      "block_10_depthwise (DepthwiseCo (None, 14, 14, 384)  3456        block_10_expand_relu[0][0]       \n",
      "__________________________________________________________________________________________________\n",
      "block_10_depthwise_BN (BatchNor (None, 14, 14, 384)  1536        block_10_depthwise[0][0]         \n",
      "__________________________________________________________________________________________________\n",
      "block_10_depthwise_relu (ReLU)  (None, 14, 14, 384)  0           block_10_depthwise_BN[0][0]      \n",
      "__________________________________________________________________________________________________\n",
      "block_10_project (Conv2D)       (None, 14, 14, 96)   36864       block_10_depthwise_relu[0][0]    \n",
      "__________________________________________________________________________________________________\n",
      "block_10_project_BN (BatchNorma (None, 14, 14, 96)   384         block_10_project[0][0]           \n",
      "__________________________________________________________________________________________________\n",
      "block_11_expand (Conv2D)        (None, 14, 14, 576)  55296       block_10_project_BN[0][0]        \n",
      "__________________________________________________________________________________________________\n",
      "block_11_expand_BN (BatchNormal (None, 14, 14, 576)  2304        block_11_expand[0][0]            \n",
      "__________________________________________________________________________________________________\n",
      "block_11_expand_relu (ReLU)     (None, 14, 14, 576)  0           block_11_expand_BN[0][0]         \n",
      "__________________________________________________________________________________________________\n",
      "block_11_depthwise (DepthwiseCo (None, 14, 14, 576)  5184        block_11_expand_relu[0][0]       \n",
      "__________________________________________________________________________________________________\n",
      "block_11_depthwise_BN (BatchNor (None, 14, 14, 576)  2304        block_11_depthwise[0][0]         \n",
      "__________________________________________________________________________________________________\n",
      "block_11_depthwise_relu (ReLU)  (None, 14, 14, 576)  0           block_11_depthwise_BN[0][0]      \n",
      "__________________________________________________________________________________________________\n",
      "block_11_project (Conv2D)       (None, 14, 14, 96)   55296       block_11_depthwise_relu[0][0]    \n",
      "__________________________________________________________________________________________________\n",
      "block_11_project_BN (BatchNorma (None, 14, 14, 96)   384         block_11_project[0][0]           \n",
      "__________________________________________________________________________________________________\n",
      "block_11_add (Add)              (None, 14, 14, 96)   0           block_10_project_BN[0][0]        \n",
      "                                                                 block_11_project_BN[0][0]        \n",
      "__________________________________________________________________________________________________\n",
      "block_12_expand (Conv2D)        (None, 14, 14, 576)  55296       block_11_add[0][0]               \n",
      "__________________________________________________________________________________________________\n",
      "block_12_expand_BN (BatchNormal (None, 14, 14, 576)  2304        block_12_expand[0][0]            \n",
      "__________________________________________________________________________________________________\n",
      "block_12_expand_relu (ReLU)     (None, 14, 14, 576)  0           block_12_expand_BN[0][0]         \n",
      "__________________________________________________________________________________________________\n",
      "block_12_depthwise (DepthwiseCo (None, 14, 14, 576)  5184        block_12_expand_relu[0][0]       \n",
      "__________________________________________________________________________________________________\n",
      "block_12_depthwise_BN (BatchNor (None, 14, 14, 576)  2304        block_12_depthwise[0][0]         \n",
      "__________________________________________________________________________________________________\n",
      "block_12_depthwise_relu (ReLU)  (None, 14, 14, 576)  0           block_12_depthwise_BN[0][0]      \n",
      "__________________________________________________________________________________________________\n",
      "block_12_project (Conv2D)       (None, 14, 14, 96)   55296       block_12_depthwise_relu[0][0]    \n",
      "__________________________________________________________________________________________________\n",
      "block_12_project_BN (BatchNorma (None, 14, 14, 96)   384         block_12_project[0][0]           \n",
      "__________________________________________________________________________________________________\n",
      "block_12_add (Add)              (None, 14, 14, 96)   0           block_11_add[0][0]               \n",
      "                                                                 block_12_project_BN[0][0]        \n",
      "__________________________________________________________________________________________________\n",
      "block_13_expand (Conv2D)        (None, 14, 14, 576)  55296       block_12_add[0][0]               \n",
      "__________________________________________________________________________________________________\n",
      "block_13_expand_BN (BatchNormal (None, 14, 14, 576)  2304        block_13_expand[0][0]            \n",
      "__________________________________________________________________________________________________\n",
      "block_13_expand_relu (ReLU)     (None, 14, 14, 576)  0           block_13_expand_BN[0][0]         \n",
      "__________________________________________________________________________________________________\n",
      "block_13_pad (ZeroPadding2D)    (None, 15, 15, 576)  0           block_13_expand_relu[0][0]       \n",
      "__________________________________________________________________________________________________\n",
      "block_13_depthwise (DepthwiseCo (None, 7, 7, 576)    5184        block_13_pad[0][0]               \n",
      "__________________________________________________________________________________________________\n",
      "block_13_depthwise_BN (BatchNor (None, 7, 7, 576)    2304        block_13_depthwise[0][0]         \n",
      "__________________________________________________________________________________________________\n",
      "block_13_depthwise_relu (ReLU)  (None, 7, 7, 576)    0           block_13_depthwise_BN[0][0]      \n",
      "__________________________________________________________________________________________________\n",
      "block_13_project (Conv2D)       (None, 7, 7, 160)    92160       block_13_depthwise_relu[0][0]    \n",
      "__________________________________________________________________________________________________\n",
      "block_13_project_BN (BatchNorma (None, 7, 7, 160)    640         block_13_project[0][0]           \n",
      "__________________________________________________________________________________________________\n",
      "block_14_expand (Conv2D)        (None, 7, 7, 960)    153600      block_13_project_BN[0][0]        \n",
      "__________________________________________________________________________________________________\n",
      "block_14_expand_BN (BatchNormal (None, 7, 7, 960)    3840        block_14_expand[0][0]            \n",
      "__________________________________________________________________________________________________\n",
      "block_14_expand_relu (ReLU)     (None, 7, 7, 960)    0           block_14_expand_BN[0][0]         \n",
      "__________________________________________________________________________________________________\n",
      "block_14_depthwise (DepthwiseCo (None, 7, 7, 960)    8640        block_14_expand_relu[0][0]       \n",
      "__________________________________________________________________________________________________\n",
      "block_14_depthwise_BN (BatchNor (None, 7, 7, 960)    3840        block_14_depthwise[0][0]         \n",
      "__________________________________________________________________________________________________\n",
      "block_14_depthwise_relu (ReLU)  (None, 7, 7, 960)    0           block_14_depthwise_BN[0][0]      \n",
      "__________________________________________________________________________________________________\n",
      "block_14_project (Conv2D)       (None, 7, 7, 160)    153600      block_14_depthwise_relu[0][0]    \n",
      "__________________________________________________________________________________________________\n",
      "block_14_project_BN (BatchNorma (None, 7, 7, 160)    640         block_14_project[0][0]           \n",
      "__________________________________________________________________________________________________\n",
      "block_14_add (Add)              (None, 7, 7, 160)    0           block_13_project_BN[0][0]        \n",
      "                                                                 block_14_project_BN[0][0]        \n",
      "__________________________________________________________________________________________________\n",
      "block_15_expand (Conv2D)        (None, 7, 7, 960)    153600      block_14_add[0][0]               \n",
      "__________________________________________________________________________________________________\n",
      "block_15_expand_BN (BatchNormal (None, 7, 7, 960)    3840        block_15_expand[0][0]            \n",
      "__________________________________________________________________________________________________\n",
      "block_15_expand_relu (ReLU)     (None, 7, 7, 960)    0           block_15_expand_BN[0][0]         \n",
      "__________________________________________________________________________________________________\n",
      "block_15_depthwise (DepthwiseCo (None, 7, 7, 960)    8640        block_15_expand_relu[0][0]       \n",
      "__________________________________________________________________________________________________\n",
      "block_15_depthwise_BN (BatchNor (None, 7, 7, 960)    3840        block_15_depthwise[0][0]         \n",
      "__________________________________________________________________________________________________\n",
      "block_15_depthwise_relu (ReLU)  (None, 7, 7, 960)    0           block_15_depthwise_BN[0][0]      \n",
      "__________________________________________________________________________________________________\n",
      "block_15_project (Conv2D)       (None, 7, 7, 160)    153600      block_15_depthwise_relu[0][0]    \n",
      "__________________________________________________________________________________________________\n",
      "block_15_project_BN (BatchNorma (None, 7, 7, 160)    640         block_15_project[0][0]           \n",
      "__________________________________________________________________________________________________\n",
      "block_15_add (Add)              (None, 7, 7, 160)    0           block_14_add[0][0]               \n",
      "                                                                 block_15_project_BN[0][0]        \n",
      "__________________________________________________________________________________________________\n",
      "block_16_expand (Conv2D)        (None, 7, 7, 960)    153600      block_15_add[0][0]               \n",
      "__________________________________________________________________________________________________\n",
      "block_16_expand_BN (BatchNormal (None, 7, 7, 960)    3840        block_16_expand[0][0]            \n",
      "__________________________________________________________________________________________________\n",
      "block_16_expand_relu (ReLU)     (None, 7, 7, 960)    0           block_16_expand_BN[0][0]         \n",
      "__________________________________________________________________________________________________\n",
      "block_16_depthwise (DepthwiseCo (None, 7, 7, 960)    8640        block_16_expand_relu[0][0]       \n",
      "__________________________________________________________________________________________________\n",
      "block_16_depthwise_BN (BatchNor (None, 7, 7, 960)    3840        block_16_depthwise[0][0]         \n",
      "__________________________________________________________________________________________________\n",
      "block_16_depthwise_relu (ReLU)  (None, 7, 7, 960)    0           block_16_depthwise_BN[0][0]      \n",
      "__________________________________________________________________________________________________\n",
      "block_16_project (Conv2D)       (None, 7, 7, 320)    307200      block_16_depthwise_relu[0][0]    \n",
      "__________________________________________________________________________________________________\n",
      "block_16_project_BN (BatchNorma (None, 7, 7, 320)    1280        block_16_project[0][0]           \n",
      "__________________________________________________________________________________________________\n",
      "Conv_1 (Conv2D)                 (None, 7, 7, 1280)   409600      block_16_project_BN[0][0]        \n",
      "__________________________________________________________________________________________________\n",
      "Conv_1_bn (BatchNormalization)  (None, 7, 7, 1280)   5120        Conv_1[0][0]                     \n",
      "__________________________________________________________________________________________________\n",
      "out_relu (ReLU)                 (None, 7, 7, 1280)   0           Conv_1_bn[0][0]                  \n",
      "__________________________________________________________________________________________________\n",
      "global_average_pooling2d (Globa (None, 1280)         0           out_relu[0][0]                   \n",
      "==================================================================================================\n",
      "Total params: 2,257,984\n",
      "Trainable params: 2,223,872\n",
      "Non-trainable params: 34,112\n",
      "__________________________________________________________________________________________________"
     ]
    }
   ],
   "source": [
    "# On vérifie que la couche supérieure est supprimée\n",
    "modelv2.summary() "
   ]
  },
  {
   "cell_type": "code",
   "execution_count": 15,
   "metadata": {},
   "outputs": [
    {
     "data": {
      "application/vnd.jupyter.widget-view+json": {
       "model_id": "",
       "version_major": 2,
       "version_minor": 0
      },
      "text/plain": [
       "FloatProgress(value=0.0, bar_style='info', description='Progress:', layout=Layout(height='25px', width='50%'),…"
      ]
     },
     "metadata": {},
     "output_type": "display_data"
    }
   ],
   "source": [
    "# distribution et transformation des données en leur attribuant un poids issu du modèle Resnet50\n",
    "bc_model_weights = sc.broadcast(modelv2.get_weights())"
   ]
  },
  {
   "cell_type": "code",
   "execution_count": 16,
   "id": "d6f777b5",
   "metadata": {},
   "outputs": [
    {
     "data": {
      "application/vnd.jupyter.widget-view+json": {
       "model_id": "",
       "version_major": 2,
       "version_minor": 0
      },
      "text/plain": [
       "FloatProgress(value=0.0, bar_style='info', description='Progress:', layout=Layout(height='25px', width='50%'),…"
      ]
     },
     "metadata": {},
     "output_type": "display_data"
    }
   ],
   "source": [
    "#Fonction qui applique le modèle MobileNetV2 aux données\n",
    "def model_fn():\n",
    "    \"\"\" \n",
    "    Retourne un modèle MobileNetV2 sans la couche supérieure et avec diffusion des poids pré-entraînés\n",
    "    \"\"\"\n",
    "    model = MobileNetV2(weights='imagenet',\n",
    "                        include_top=True,\n",
    "                        input_shape=(224, 224, 3))\n",
    "    for layer in model.layers:\n",
    "        layer.trainable = False\n",
    "    modelv2 = Model(inputs=model.input,\n",
    "                  outputs=model.layers[-2].output)\n",
    "    modelv2.set_weights(bc_model_weights.value)\n",
    "    return modelv2"
   ]
  },
  {
   "cell_type": "markdown",
   "id": "056c32ec",
   "metadata": {},
   "source": [
    "## <font color=\"red\" id=\"section_4\"> 4. Preprocessing et création des features </font>"
   ]
  },
  {
   "cell_type": "markdown",
   "id": "a9ab5548",
   "metadata": {},
   "source": [
    "Nous allons redimensionner les images en taille 224x224 car cela est nécessaire pour appliquer le modèle de transfer \n",
    "learning."
   ]
  },
  {
   "cell_type": "markdown",
   "id": "4f3fa274",
   "metadata": {},
   "source": [
    "Je me suis inspirée des scripts présent dans :\n",
    "    \"https://docs.databricks.com/machine-learning/preprocess-data/transfer-learning-tensorflow.html\""
   ]
  },
  {
   "cell_type": "raw",
   "metadata": {},
   "source": [
    "%pip install keras"
   ]
  },
  {
   "cell_type": "code",
   "execution_count": 17,
   "id": "820602bd",
   "metadata": {},
   "outputs": [
    {
     "data": {
      "application/vnd.jupyter.widget-view+json": {
       "model_id": "",
       "version_major": 2,
       "version_minor": 0
      },
      "text/plain": [
       "FloatProgress(value=0.0, bar_style='info', description='Progress:', layout=Layout(height='25px', width='50%'),…"
      ]
     },
     "metadata": {},
     "output_type": "display_data"
    }
   ],
   "source": [
    "from tensorflow.keras.preprocessing.image import img_to_array\n",
    "from tensorflow.keras.applications.resnet50 import preprocess_input\n",
    "\n",
    "def preprocess(content):\n",
    "    '''\n",
    "    - Retourne des images prétraités pour la prédiction\n",
    "    '''\n",
    "    image = (Image.open(io.BytesIO(content))).resize([224, 224])\n",
    "    array = img_to_array(image)\n",
    "    return preprocess_input(array)\n"
   ]
  },
  {
   "cell_type": "code",
   "execution_count": 18,
   "id": "81b06595",
   "metadata": {},
   "outputs": [
    {
     "data": {
      "application/vnd.jupyter.widget-view+json": {
       "model_id": "",
       "version_major": 2,
       "version_minor": 0
      },
      "text/plain": [
       "FloatProgress(value=0.0, bar_style='info', description='Progress:', layout=Layout(height='25px', width='50%'),…"
      ]
     },
     "metadata": {},
     "output_type": "display_data"
    },
    {
     "name": "stdout",
     "output_type": "stream",
     "text": [
      "/usr/lib/spark/python/lib/pyspark.zip/pyspark/sql/pandas/functions.py:392: UserWarning: In Python 3.6+ and Spark 3.0+, it is preferred to specify type hints for pandas UDF instead of specifying pandas UDF type which will be deprecated in the future releases. See SPARK-28264 for more details."
     ]
    }
   ],
   "source": [
    "import numpy as np\n",
    "import pandas as pd\n",
    "from pyspark.sql.functions import  col, pandas_udf, PandasUDFType\n",
    "from pyspark.sql.types import ArrayType, IntegerType, FloatType, StringType\n",
    "\n",
    "def featurize_series(model, content_series):\n",
    "    '''\n",
    "    - Extraction des features d'un pd.Series d'images brutes à l'aide du modèle d'entrée\n",
    "    - Retourne un pd.Série de features des images\n",
    "    '''\n",
    "    input = np.stack(content_series.map(preprocess))\n",
    "    preds = model.predict(input)\n",
    "    # Pour certaines couches, les entités de sortie seront des tenseurs multidimensionnels.\n",
    "    # Nous aplatissons les tenseurs de caractéristiques en vecteurs pour un stockage plus facile dans Spark DataFrames.\n",
    "    output = [p.flatten() for p in preds]\n",
    "    return pd.Series(output)\n",
    "\n",
    "#On applique le modèle dans un pandas UDF\n",
    "@pandas_udf('array<float>', functionType=PandasUDFType.SCALAR_ITER)\n",
    "def featurize_udf(content_series_iter):\n",
    "    '''\n",
    "    Cette méthode est une UDF Scalar Iterator pandas enveloppant la fonction d'extraction des features.\n",
    "    - Prend en entrée \"content_series_iter\", un itérateur sur des lots de données, où chaque lot est une\n",
    "      série de pandas de données d'image.\n",
    "    - Retourne une colonne Spark DataFrame de type ArrayType(FloatType).\n",
    "    '''\n",
    "    # Avec Scalar Iterator pandas UDFs, nous pouvons charger le modèle une fois puis le réutiliser\n",
    "    # pour plusieurs lots de données. Cela amortit les frais généraux liés au chargement de gros modèles.\n",
    "    model = model_fn()\n",
    "    for content_series in content_series_iter:\n",
    "        yield featurize_series(model, content_series)"
   ]
  },
  {
   "cell_type": "code",
   "execution_count": 57,
   "metadata": {},
   "outputs": [
    {
     "data": {
      "application/vnd.jupyter.widget-view+json": {
       "model_id": "",
       "version_major": 2,
       "version_minor": 0
      },
      "text/plain": [
       "FloatProgress(value=0.0, bar_style='info', description='Progress:', layout=Layout(height='25px', width='50%'),…"
      ]
     },
     "metadata": {},
     "output_type": "display_data"
    }
   ],
   "source": [
    "# Les UDF de Pandas sur de grands enregistrements (par exemple, de très grandes images) peuvent rencontrer des erreurs de type Out Of Memory (OOM).\n",
    "# Si vous rencontrez de telles erreurs dans la cellule ci-dessous, essayez de réduire la taille du lot Arrow via `maxRecordsPerBatch\n",
    "#spark.conf.set(\"spark.sql.execution.arrow.maxRecordsPerBatch\", \"1024\")"
   ]
  },
  {
   "cell_type": "code",
   "execution_count": 19,
   "id": "4e9ede11",
   "metadata": {},
   "outputs": [
    {
     "data": {
      "application/vnd.jupyter.widget-view+json": {
       "model_id": "",
       "version_major": 2,
       "version_minor": 0
      },
      "text/plain": [
       "FloatProgress(value=0.0, bar_style='info', description='Progress:', layout=Layout(height='25px', width='50%'),…"
      ]
     },
     "metadata": {},
     "output_type": "display_data"
    },
    {
     "name": "stdout",
     "output_type": "stream",
     "text": [
      "2"
     ]
    }
   ],
   "source": [
    "#Regardons le nombre de partitions de images\n",
    "data_img.rdd.getNumPartitions()"
   ]
  },
  {
   "cell_type": "code",
   "execution_count": 20,
   "id": "124d5bb6",
   "metadata": {},
   "outputs": [
    {
     "data": {
      "application/vnd.jupyter.widget-view+json": {
       "model_id": "",
       "version_major": 2,
       "version_minor": 0
      },
      "text/plain": [
       "FloatProgress(value=0.0, bar_style='info', description='Progress:', layout=Layout(height='25px', width='50%'),…"
      ]
     },
     "metadata": {},
     "output_type": "display_data"
    }
   ],
   "source": [
    "#On garde les colonnes 'path', 'fruit','features' que l'on récupère à l'issue du préprocessing\n",
    "data_features = data_img.repartition(2).select(col('path'),col('fruit'),featurize_udf(\"content\").alias(\"features\"))"
   ]
  },
  {
   "cell_type": "code",
   "execution_count": 21,
   "id": "2d6b9862",
   "metadata": {},
   "outputs": [
    {
     "data": {
      "application/vnd.jupyter.widget-view+json": {
       "model_id": "",
       "version_major": 2,
       "version_minor": 0
      },
      "text/plain": [
       "FloatProgress(value=0.0, bar_style='info', description='Progress:', layout=Layout(height='25px', width='50%'),…"
      ]
     },
     "metadata": {},
     "output_type": "display_data"
    },
    {
     "name": "stdout",
     "output_type": "stream",
     "text": [
      "+--------------------+--------------+--------------------+\n",
      "|                path|         fruit|            features|\n",
      "+--------------------+--------------+--------------------+\n",
      "|s3a://projet8-fru...|          Kiwi|[0.67154574, 0.19...|\n",
      "|s3a://projet8-fru...|Apple Braeburn|[0.024972016, 0.9...|\n",
      "|s3a://projet8-fru...|    Strawberry|[0.7662081, 0.601...|\n",
      "|s3a://projet8-fru...|    Watermelon|[0.54513586, 0.57...|\n",
      "|s3a://projet8-fru...|         Cocos|[1.0977285, 0.278...|\n",
      "|s3a://projet8-fru...|    Strawberry|[0.68121576, 0.73...|\n",
      "|s3a://projet8-fru...|          Kiwi|[0.7037509, 0.229...|\n",
      "|s3a://projet8-fru...|         Lemon|[0.38271257, 0.26...|\n",
      "|s3a://projet8-fru...|         Cocos|[1.9467353, 0.331...|\n",
      "|s3a://projet8-fru...|    Watermelon|[0.4738176, 0.062...|\n",
      "+--------------------+--------------+--------------------+\n",
      "only showing top 10 rows"
     ]
    }
   ],
   "source": [
    "#On affiche les 10 premières lignes\n",
    "data_features.show(10)"
   ]
  },
  {
   "cell_type": "markdown",
   "id": "3a3f1747",
   "metadata": {},
   "source": [
    "## <font color=\"red\" id=\"section_5\">5. Reduction de dimensions </font>"
   ]
  },
  {
   "cell_type": "markdown",
   "id": "a9e47b9e",
   "metadata": {},
   "source": [
    "## ACP"
   ]
  },
  {
   "cell_type": "markdown",
   "id": "18f09325",
   "metadata": {},
   "source": [
    "L'ACP forme un modèle pour projeter des vecteurs dans un espace dimensionnel inférieur\n",
    "des k composants principaux principaux"
   ]
  },
  {
   "cell_type": "markdown",
   "id": "0c736322",
   "metadata": {},
   "source": [
    "Commençons par convertir les features en vecteurs de features."
   ]
  },
  {
   "cell_type": "code",
   "execution_count": 22,
   "id": "42ef3ffc",
   "metadata": {},
   "outputs": [
    {
     "data": {
      "application/vnd.jupyter.widget-view+json": {
       "model_id": "",
       "version_major": 2,
       "version_minor": 0
      },
      "text/plain": [
       "FloatProgress(value=0.0, bar_style='info', description='Progress:', layout=Layout(height='25px', width='50%'),…"
      ]
     },
     "metadata": {},
     "output_type": "display_data"
    }
   ],
   "source": [
    "from pyspark.ml.linalg import Vectors, VectorUDT\n",
    "\n",
    "# Conversion au format vecteur dense\n",
    "ud_f = udf(lambda x: Vectors.dense(x), VectorUDT())\n",
    "data_vect = data_features.withColumn('features_vect', ud_f('features'))"
   ]
  },
  {
   "cell_type": "markdown",
   "id": "fcfa8ee3",
   "metadata": {},
   "source": [
    "On applique la transformation PCA pour réduire les dimensions de notre base de données."
   ]
  },
  {
   "cell_type": "code",
   "execution_count": 23,
   "id": "098862dd",
   "metadata": {},
   "outputs": [
    {
     "data": {
      "application/vnd.jupyter.widget-view+json": {
       "model_id": "",
       "version_major": 2,
       "version_minor": 0
      },
      "text/plain": [
       "FloatProgress(value=0.0, bar_style='info', description='Progress:', layout=Layout(height='25px', width='50%'),…"
      ]
     },
     "metadata": {},
     "output_type": "display_data"
    }
   ],
   "source": [
    "from pyspark.ml.feature import StandardScaler, PCA\n",
    "\n",
    "#On standardise les features\n",
    "scaler = StandardScaler(inputCol=\"features_vect\")\n",
    "scaler.setOutputCol(\"features_std\")\n",
    "data_fit=scaler.fit(data_vect)\n",
    "data_sc = data_fit.transform(data_vect)"
   ]
  },
  {
   "cell_type": "code",
   "execution_count": 24,
   "id": "08aa8e69",
   "metadata": {},
   "outputs": [
    {
     "data": {
      "application/vnd.jupyter.widget-view+json": {
       "model_id": "",
       "version_major": 2,
       "version_minor": 0
      },
      "text/plain": [
       "FloatProgress(value=0.0, bar_style='info', description='Progress:', layout=Layout(height='25px', width='50%'),…"
      ]
     },
     "metadata": {},
     "output_type": "display_data"
    },
    {
     "name": "stdout",
     "output_type": "stream",
     "text": [
      "+--------------------+--------------+--------------------+--------------------+--------------------+\n",
      "|                path|         fruit|            features|       features_vect|        features_std|\n",
      "+--------------------+--------------+--------------------+--------------------+--------------------+\n",
      "|s3a://projet8-fru...|          Kiwi|[0.67154574, 0.19...|[0.67154574394226...|[1.19819261001848...|\n",
      "|s3a://projet8-fru...|Apple Braeburn|[0.024972016, 0.9...|[0.02497201599180...|[0.04455584044505...|\n",
      "|s3a://projet8-fru...|    Strawberry|[0.7662081, 0.601...|[0.76620811223983...|[1.36709212455513...|\n",
      "|s3a://projet8-fru...|    Watermelon|[0.54513586, 0.57...|[0.54513585567474...|[0.97264819205188...|\n",
      "|s3a://projet8-fru...|         Cocos|[1.0977285, 0.278...|[1.09772849082946...|[1.95860099983255...|\n",
      "|s3a://projet8-fru...|    Strawberry|[0.68121576, 0.73...|[0.68121576309204...|[1.21544615616708...|\n",
      "|s3a://projet8-fru...|          Kiwi|[0.7037509, 0.229...|[0.70375090837478...|[1.25565405680087...|\n",
      "|s3a://projet8-fru...|         Lemon|[0.38271257, 0.26...|[0.38271257281303...|[0.68284756569786...|\n",
      "|s3a://projet8-fru...|         Cocos|[1.9467353, 0.331...|[1.94673526287078...|[3.47342504464553...|\n",
      "|s3a://projet8-fru...|    Watermelon|[0.4738176, 0.062...|[0.47381758689880...|[0.84539993922997...|\n",
      "|s3a://projet8-fru...|          Kiwi|[1.0926485, 0.073...|[1.09264850616455...|[1.94953713465372...|\n",
      "|s3a://projet8-fru...|         Cocos|[1.811646, 0.8270...|[1.81164598464965...|[3.23239459166836...|\n",
      "|s3a://projet8-fru...|    Strawberry|[1.0416945, 0.721...|[1.04169452190399...|[1.85862346578941...|\n",
      "|s3a://projet8-fru...|Apple Braeburn|[0.22918966, 0.55...|[0.22918966412544...|[0.40892726121027...|\n",
      "|s3a://projet8-fru...|     Mandarine|[1.0518711, 1.238...|[1.05187106132507...|[1.87678076101449...|\n",
      "|s3a://projet8-fru...|    Strawberry|[0.49121243, 0.96...|[0.49121242761611...|[0.87643635005968...|\n",
      "|s3a://projet8-fru...|    Clementine|[0.641572, 0.1706...|[0.64157199859619...|[1.14471252993130...|\n",
      "|s3a://projet8-fru...| Passion Fruit|[1.8181952, 0.044...|[1.81819522380828...|[3.24407994598994...|\n",
      "|s3a://projet8-fru...|         Dates|[0.66768575, 0.0,...|[0.66768574714660...|[1.19130548478990...|\n",
      "|s3a://projet8-fru...|        Banana|[0.9031529, 0.0, ...|[0.90315288305282...|[1.61143320459168...|\n",
      "+--------------------+--------------+--------------------+--------------------+--------------------+\n",
      "only showing top 20 rows"
     ]
    }
   ],
   "source": [
    "data_sc.show()"
   ]
  },
  {
   "cell_type": "code",
   "execution_count": 33,
   "id": "8106b815",
   "metadata": {},
   "outputs": [
    {
     "data": {
      "application/vnd.jupyter.widget-view+json": {
       "model_id": "",
       "version_major": 2,
       "version_minor": 0
      },
      "text/plain": [
       "FloatProgress(value=0.0, bar_style='info', description='Progress:', layout=Layout(height='25px', width='50%'),…"
      ]
     },
     "metadata": {},
     "output_type": "display_data"
    }
   ],
   "source": [
    "# Transformation PCA sur les k composantes principales à générer\n",
    "\n",
    "pca = PCA(k=16,inputCol='features_std',outputCol='features_pca')"
   ]
  },
  {
   "cell_type": "code",
   "execution_count": 34,
   "id": "5ff3055e",
   "metadata": {},
   "outputs": [
    {
     "data": {
      "application/vnd.jupyter.widget-view+json": {
       "model_id": "",
       "version_major": 2,
       "version_minor": 0
      },
      "text/plain": [
       "FloatProgress(value=0.0, bar_style='info', description='Progress:', layout=Layout(height='25px', width='50%'),…"
      ]
     },
     "metadata": {},
     "output_type": "display_data"
    }
   ],
   "source": [
    "#On entraine et transforme les données standardisées pour obtenir les données après transformation PCA\n",
    "model_pca=pca.fit(data_sc)\n",
    "data_pca = model_pca.transform(data_sc)\n",
    "data_pca = data_pca.filter(data_pca.features_pca.isNotNull())"
   ]
  },
  {
   "cell_type": "code",
   "execution_count": 35,
   "id": "4483a57a",
   "metadata": {},
   "outputs": [
    {
     "data": {
      "application/vnd.jupyter.widget-view+json": {
       "model_id": "",
       "version_major": 2,
       "version_minor": 0
      },
      "text/plain": [
       "FloatProgress(value=0.0, bar_style='info', description='Progress:', layout=Layout(height='25px', width='50%'),…"
      ]
     },
     "metadata": {},
     "output_type": "display_data"
    },
    {
     "name": "stdout",
     "output_type": "stream",
     "text": [
      "+--------------------+--------------+--------------------+--------------------+--------------------+--------------------+\n",
      "|                path|         fruit|            features|       features_vect|        features_std|        features_pca|\n",
      "+--------------------+--------------+--------------------+--------------------+--------------------+--------------------+\n",
      "|s3a://projet8-fru...|          Kiwi|[0.67154574, 0.19...|[0.67154574394226...|[1.19819261001848...|[-13.998540821516...|\n",
      "|s3a://projet8-fru...|Apple Braeburn|[0.024972016, 0.9...|[0.02497201599180...|[0.04455584044505...|[-3.1367429564872...|\n",
      "|s3a://projet8-fru...|    Strawberry|[0.7662081, 0.601...|[0.76620811223983...|[1.36709212455513...|[-2.0658984368732...|\n",
      "|s3a://projet8-fru...|    Watermelon|[0.54513586, 0.57...|[0.54513585567474...|[0.97264819205188...|[5.10726363301637...|\n",
      "|s3a://projet8-fru...|         Cocos|[1.0977285, 0.278...|[1.09772849082946...|[1.95860099983255...|[5.08421000370752...|\n",
      "|s3a://projet8-fru...|    Strawberry|[0.68121576, 0.73...|[0.68121576309204...|[1.21544615616708...|[-1.4127839634763...|\n",
      "|s3a://projet8-fru...|          Kiwi|[0.7037509, 0.229...|[0.70375090837478...|[1.25565405680087...|[-13.123450934157...|\n",
      "|s3a://projet8-fru...|         Lemon|[0.38271257, 0.26...|[0.38271257281303...|[0.68284756569786...|[-10.912686464067...|\n",
      "|s3a://projet8-fru...|         Cocos|[1.9467353, 0.331...|[1.94673526287078...|[3.47342504464553...|[4.37252930719185...|\n",
      "|s3a://projet8-fru...|    Watermelon|[0.4738176, 0.062...|[0.47381758689880...|[0.84539993922997...|[2.55219826478972...|\n",
      "+--------------------+--------------+--------------------+--------------------+--------------------+--------------------+\n",
      "only showing top 10 rows"
     ]
    }
   ],
   "source": [
    "#On affiche les 10 premières lignes de data_pca\n",
    "data_pca.select(col('path'),col('fruit'),col('features'),col('features_vect'),col('features_std'),col('features_pca')).show(10)"
   ]
  },
  {
   "cell_type": "markdown",
   "id": "64d8104d",
   "metadata": {},
   "source": [
    "## Variance expliquée"
   ]
  },
  {
   "cell_type": "code",
   "execution_count": 36,
   "id": "6b97a026",
   "metadata": {},
   "outputs": [
    {
     "data": {
      "application/vnd.jupyter.widget-view+json": {
       "model_id": "",
       "version_major": 2,
       "version_minor": 0
      },
      "text/plain": [
       "FloatProgress(value=0.0, bar_style='info', description='Progress:', layout=Layout(height='25px', width='50%'),…"
      ]
     },
     "metadata": {},
     "output_type": "display_data"
    },
    {
     "name": "stdout",
     "output_type": "stream",
     "text": [
      "array([13.52, 24.77, 34.16, 42.54, 49.58, 55.85, 62.02, 67.2 , 72.  ,\n",
      "       76.04, 79.85, 81.12, 82.28, 83.39, 84.34, 85.21])"
     ]
    }
   ],
   "source": [
    "variance = np.round(100*model_pca.explainedVariance.toArray(),2).cumsum()\n",
    "variance"
   ]
  },
  {
   "cell_type": "raw",
   "metadata": {},
   "source": [
    "%pip install matplotlib"
   ]
  },
  {
   "cell_type": "raw",
   "metadata": {},
   "source": [
    "#%matplotlib inline\n",
    "\n",
    "import matplotlib\n",
    "import matplotlib.pyplot as plt\n",
    "plt.figure(figsize=(16, 9))\n",
    "plt.ylabel(\"Variance cumulée\", weight='bold', size=20)\n",
    "plt.xlabel('Nbr de composantes principales', weight='bold', size=17)\n",
    "plt.plot(model_pca.explainedVariance.cumsum(),c=\"red\",marker='o')\n",
    "plt.title('Courbe de variances cumulées', size=18, weight='bold')\n",
    "\n",
    "#ne fonctionne pas sur un bloc-notes AWS Jupyter connecté à un cluster EMR exécutant le noyau Sparkmagic (PySpark)."
   ]
  },
  {
   "cell_type": "markdown",
   "id": "3e336d53",
   "metadata": {},
   "source": [
    "## <font color=\"red\" id=\"section_6\">6. Sauvegarde des données au format paquet </font>"
   ]
  },
  {
   "cell_type": "code",
   "execution_count": 37,
   "id": "fda1bd69",
   "metadata": {},
   "outputs": [
    {
     "data": {
      "application/vnd.jupyter.widget-view+json": {
       "model_id": "",
       "version_major": 2,
       "version_minor": 0
      },
      "text/plain": [
       "FloatProgress(value=0.0, bar_style='info', description='Progress:', layout=Layout(height='25px', width='50%'),…"
      ]
     },
     "metadata": {},
     "output_type": "display_data"
    }
   ],
   "source": [
    "data_final = data_pca.select(col('path'),col('fruit'), col('features_pca'))"
   ]
  },
  {
   "cell_type": "code",
   "execution_count": 38,
   "metadata": {},
   "outputs": [
    {
     "data": {
      "application/vnd.jupyter.widget-view+json": {
       "model_id": "",
       "version_major": 2,
       "version_minor": 0
      },
      "text/plain": [
       "FloatProgress(value=0.0, bar_style='info', description='Progress:', layout=Layout(height='25px', width='50%'),…"
      ]
     },
     "metadata": {},
     "output_type": "display_data"
    },
    {
     "name": "stdout",
     "output_type": "stream",
     "text": [
      "+--------------------+--------------+--------------------+\n",
      "|                path|         fruit|        features_pca|\n",
      "+--------------------+--------------+--------------------+\n",
      "|s3a://projet8-fru...|          Kiwi|[-13.998540821516...|\n",
      "|s3a://projet8-fru...|Apple Braeburn|[-3.1367429564872...|\n",
      "|s3a://projet8-fru...|    Strawberry|[-2.0658984368732...|\n",
      "|s3a://projet8-fru...|    Watermelon|[5.10726363301637...|\n",
      "|s3a://projet8-fru...|         Cocos|[5.08421000370752...|\n",
      "|s3a://projet8-fru...|    Strawberry|[-1.4127839634763...|\n",
      "|s3a://projet8-fru...|          Kiwi|[-13.123450934157...|\n",
      "|s3a://projet8-fru...|         Lemon|[-10.912686464067...|\n",
      "|s3a://projet8-fru...|         Cocos|[4.37252930719185...|\n",
      "|s3a://projet8-fru...|    Watermelon|[2.55219826478972...|\n",
      "|s3a://projet8-fru...|          Kiwi|[-9.5551930693832...|\n",
      "|s3a://projet8-fru...|         Cocos|[3.73664935091293...|\n",
      "|s3a://projet8-fru...|    Strawberry|[-2.2263926715440...|\n",
      "|s3a://projet8-fru...|Apple Braeburn|[-3.2606053321817...|\n",
      "|s3a://projet8-fru...|     Mandarine|[-33.991718291188...|\n",
      "|s3a://projet8-fru...|    Strawberry|[-2.5491488823966...|\n",
      "|s3a://projet8-fru...|    Clementine|[-9.6380030059920...|\n",
      "|s3a://projet8-fru...| Passion Fruit|[-7.7256556807188...|\n",
      "|s3a://projet8-fru...|         Dates|[-35.331709214009...|\n",
      "|s3a://projet8-fru...|        Banana|[-5.8577845389856...|\n",
      "+--------------------+--------------+--------------------+\n",
      "only showing top 20 rows"
     ]
    }
   ],
   "source": [
    "data_final.show()"
   ]
  },
  {
   "cell_type": "markdown",
   "id": "b9514e8c",
   "metadata": {},
   "source": [
    "On enregistre les résultats de l'ACP (après modélisation) au format parquet."
   ]
  },
  {
   "cell_type": "code",
   "execution_count": 39,
   "id": "bae41e9d",
   "metadata": {},
   "outputs": [
    {
     "data": {
      "application/vnd.jupyter.widget-view+json": {
       "model_id": "",
       "version_major": 2,
       "version_minor": 0
      },
      "text/plain": [
       "FloatProgress(value=0.0, bar_style='info', description='Progress:', layout=Layout(height='25px', width='50%'),…"
      ]
     },
     "metadata": {},
     "output_type": "display_data"
    }
   ],
   "source": [
    "data_final.write.mode(\"overwrite\").parquet('s3a://projet8-fruits-s3v2/resultat/')"
   ]
  }
 ],
 "metadata": {
  "kernelspec": {
   "display_name": "PySpark",
   "language": "",
   "name": "pysparkkernel"
  },
  "language_info": {
   "codemirror_mode": {
    "name": "python",
    "version": 3
   },
   "mimetype": "text/x-python",
   "name": "pyspark",
   "pygments_lexer": "python3"
  }
 },
 "nbformat": 4,
 "nbformat_minor": 5
}
