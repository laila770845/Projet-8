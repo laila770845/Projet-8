{
 "cells": [
  {
   "cell_type": "markdown",
   "id": "35fb7ba1",
   "metadata": {},
   "source": [
    "# <center> <font color=\"#8333ff\"> Projet8 : Déployez un modèle dans le cloud </font></center>"
   ]
  },
  {
   "cell_type": "markdown",
   "id": "5473107b",
   "metadata": {},
   "source": [
    "## Problématique : \n",
    "\n",
    "Vous êtes Data Scientist dans une très jeune start-up de l'AgriTech, nommée  **\"Fruits!\"**, qui cherche à proposer des \n",
    "solutions innovantes pour la récolte des fruits.\n",
    "Cette entreprise souhaite dans un premier temps se faire connaître en mettant à disposition du grand public une application\n",
    "mobile qui permettrait aux utilisateurs de prendre en photo un fruit et d'obtenir des informations sur ce fruit.\n",
    "Le développement de l’application mobile permettra de construire **une première version de l'architecture Big Data \n",
    "nécessaire.**"
   ]
  },
  {
   "cell_type": "markdown",
   "id": "cefcbae3",
   "metadata": {},
   "source": [
    "## Mission :\n",
    "Vous êtes donc chargé de développer dans un environnement Big Data une première chaîne de traitement des données qui \n",
    "comprendra le preprocessing et une étape de réduction de dimension."
   ]
  },
  {
   "cell_type": "markdown",
   "id": "1cee2959",
   "metadata": {},
   "source": [
    "## <font color=\"blue\">Sommaire</font>\n",
    "\n",
    "1. [Point de départ : la session Spark](#section_1)   \n",
    "2. [Chargement et Lecture des données](#section_2)              \n",
    "3. [Utilisation d'un modèle pré-entrainé ResNet50 ](#section_3) </br>\n",
    "4. [Préprocessing et création des features](#section_4) </br>\n",
    "5. [Réduction de dimension](#section_5) </br>\n",
    "6. [Sauvegarde des données au format paquet ](#section_6) </br>\n"
   ]
  },
  {
   "cell_type": "markdown",
   "id": "0ce2a622",
   "metadata": {},
   "source": [
    "Dans ce notebook, nous allons manipuler un faible jeu de données, de 10 images seulement, et travailler en local."
   ]
  },
  {
   "cell_type": "markdown",
   "id": "042cf394",
   "metadata": {},
   "source": [
    "Cela va nous permettre de préparer notre notebook sur un petit jeu de données donc, cela sera plus rapide, mais aussi\n",
    "d'éviter d'utiliser des heures gratuits d'aws pour la préparation de notre notebook, que nous préférons garder pour la \n",
    "partie où l'on transfère notre notebook sur l'EC2 AWS."
   ]
  },
  {
   "cell_type": "markdown",
   "id": "7a108b82",
   "metadata": {},
   "source": [
    "Tout d'abord commençons par installer la libraire nécessaire pour utiliser pyspark."
   ]
  },
  {
   "cell_type": "markdown",
   "id": "72284f6b",
   "metadata": {},
   "source": [
    "pip install findspark"
   ]
  },
  {
   "cell_type": "code",
   "execution_count": 1,
   "id": "4f7a5256",
   "metadata": {
    "scrolled": true
   },
   "outputs": [
    {
     "data": {
      "text/plain": [
       "'C:\\\\Spark'"
      ]
     },
     "execution_count": 1,
     "metadata": {},
     "output_type": "execute_result"
    }
   ],
   "source": [
    "import findspark\n",
    "findspark.init()\n",
    "findspark.find()\n",
    "import pyspark\n",
    "findspark.find()"
   ]
  },
  {
   "cell_type": "markdown",
   "id": "024e0e3f",
   "metadata": {},
   "source": [
    "On importe aussi la librairie nécessaire pour notre projet."
   ]
  },
  {
   "cell_type": "raw",
   "id": "e52d6b1d",
   "metadata": {},
   "source": [
    "pip install tensorflow"
   ]
  },
  {
   "cell_type": "code",
   "execution_count": 2,
   "id": "8f14e3d7",
   "metadata": {},
   "outputs": [],
   "source": [
    "from pyspark.sql.functions import *"
   ]
  },
  {
   "cell_type": "code",
   "execution_count": 3,
   "id": "73ad7e01",
   "metadata": {},
   "outputs": [],
   "source": [
    "#Pyspark\n",
    "from pyspark import SparkContext, SparkConf\n",
    "\n",
    "from pyspark.ml.feature import StandardScaler, StringIndexer\n",
    "\n",
    "from pyspark.sql import Window\n",
    "from pyspark.sql import SparkSession\n",
    "from pyspark.sql.types import ArrayType, IntegerType, FloatType, StringType\n",
    "from pyspark.sql.functions import split, col, udf\n",
    "from pyspark.sql.functions import pandas_udf, PandasUDFType\n",
    "from pyspark.sql.functions import element_at\n",
    "from pyspark.sql.functions import monotonically_increasing_id, row_number\n",
    "\n",
    "from pyspark.ml.linalg import Vectors, VectorUDT"
   ]
  },
  {
   "cell_type": "markdown",
   "id": "dc94b824",
   "metadata": {},
   "source": [
    "## <font color=\"red\" id=\"section_1\">1.  Point de départ : la session Spark </font>"
   ]
  },
  {
   "cell_type": "markdown",
   "id": "149e8180",
   "metadata": {},
   "source": [
    "Mettons d'abord en place les chemins d'accès servant à récupérer nos images."
   ]
  },
  {
   "cell_type": "code",
   "execution_count": 4,
   "id": "d636e63a",
   "metadata": {},
   "outputs": [
    {
     "name": "stdout",
     "output_type": "stream",
     "text": [
      "Chemin:        C:\\Users\\laila\n",
      "Chemin_Image:   C:\\Users\\laila/test\n",
      "Chemin_Res: C:\\Users\\laila/resultat\n"
     ]
    }
   ],
   "source": [
    "import os\n",
    "\n",
    "#Les données se trouvent dans le même dossier que notre outil python\n",
    "Chemin = os.getcwd()\n",
    "#Lien des 10 images\n",
    "Chemin_Image = Chemin+'/test'\n",
    "#Lien du résultat final\n",
    "Chemin_Res = Chemin+'/resultat'\n",
    "#On vérifie les liens\n",
    "print('Chemin:        '+\\\n",
    "      Chemin+'\\nChemin_Image:   '+\\\n",
    "      Chemin_Image+'\\nChemin_Res: '+Chemin_Res)"
   ]
  },
  {
   "cell_type": "markdown",
   "id": "7ce1be37",
   "metadata": {},
   "source": [
    "Le point d'entrée de toutes les fonctionnalités de Spark est la création d'une session Spark, à l'aide de \n",
    "\"SparkSession.builder\"."
   ]
  },
  {
   "cell_type": "code",
   "execution_count": 5,
   "id": "3028d186",
   "metadata": {},
   "outputs": [],
   "source": [
    "from pyspark.sql import SparkSession\n",
    "\n",
    "#Création d'une session Spark\n",
    "spark = (SparkSession\n",
    "             .builder\n",
    "             .appName(\"Fruits\")\n",
    "             .master('local')\n",
    "             .config(\"spark.sql.parquet.writeLegacyFormat\", 'true')\n",
    "             .getOrCreate()\n",
    ")"
   ]
  },
  {
   "cell_type": "markdown",
   "id": "4ec04f80",
   "metadata": {},
   "source": [
    "La première chose à faire lorsque l'on veut utiliser Spark est de créer un objet SparkContext, \n",
    "généralement assigné à une variable nommée sc dans le code. Cet objet indique à Spark comment accéder \n",
    "au cluster de serveurs que vous souhaitez utiliser.\n",
    "Spark est un framework de calcul distribué (ce n'est pas un langage de programmation).\n",
    "Le calcul distribué consiste en la réalisation d’opérations sur des données qui ne sont pas stockées en un seul endroit,\n",
    "mais éparpillées au sein d’un réseau de différentes machines (un « cluster »)."
   ]
  },
  {
   "cell_type": "markdown",
   "id": "db0e1612",
   "metadata": {},
   "source": [
    "Ici, notre cluster est local (pour faire des tests en simulant plusieurs processus parallèles comme s’il s’agissait de serveurs différents). "
   ]
  },
  {
   "cell_type": "code",
   "execution_count": 6,
   "id": "07b9e190",
   "metadata": {},
   "outputs": [],
   "source": [
    "from pyspark import SparkContext\n",
    "\n",
    "sc = spark.sparkContext"
   ]
  },
  {
   "cell_type": "code",
   "execution_count": 7,
   "id": "bdd4f65a",
   "metadata": {},
   "outputs": [
    {
     "data": {
      "text/html": [
       "\n",
       "            <div>\n",
       "                <p><b>SparkSession - in-memory</b></p>\n",
       "                \n",
       "        <div>\n",
       "            <p><b>SparkContext</b></p>\n",
       "\n",
       "            <p><a href=\"http://LAPTOP-0AF0FVO9.lan:4041\">Spark UI</a></p>\n",
       "\n",
       "            <dl>\n",
       "              <dt>Version</dt>\n",
       "                <dd><code>v3.3.0</code></dd>\n",
       "              <dt>Master</dt>\n",
       "                <dd><code>local</code></dd>\n",
       "              <dt>AppName</dt>\n",
       "                <dd><code>Fruits</code></dd>\n",
       "            </dl>\n",
       "        </div>\n",
       "        \n",
       "            </div>\n",
       "        "
      ],
      "text/plain": [
       "<pyspark.sql.session.SparkSession at 0x1eb822f5b20>"
      ]
     },
     "execution_count": 7,
     "metadata": {},
     "output_type": "execute_result"
    }
   ],
   "source": [
    "spark"
   ]
  },
  {
   "cell_type": "markdown",
   "id": "b20c32d0",
   "metadata": {},
   "source": [
    "## <font color=\"red\" id=\"section_2\">2. Chargement et Lecture des données </font>"
   ]
  },
  {
   "cell_type": "markdown",
   "id": "2ad80a8d",
   "metadata": {},
   "source": [
    "Nous allons stocker les images, que nous avions placé dans un dossier \"test\", dans le dataset nommé \"images\"."
   ]
  },
  {
   "cell_type": "code",
   "execution_count": 8,
   "id": "7507930f",
   "metadata": {},
   "outputs": [],
   "source": [
    "#Lecture des données images \n",
    "data_img = spark.read.format(\"binaryFile\") \\\n",
    "  .option(\"pathGlobFilter\", \"*.jpg\") \\\n",
    "  .option(\"recursiveFileLookup\", \"true\") \\\n",
    "  .load(Chemin_Image)"
   ]
  },
  {
   "cell_type": "markdown",
   "id": "e76ab9b0",
   "metadata": {},
   "source": [
    "Nous allons maintenant construire un tableau contenant les liens des images ('path') dans une colonne et les libellés du \n",
    "fruit concerné dans l'autre colonne ('label')."
   ]
  },
  {
   "cell_type": "code",
   "execution_count": 9,
   "id": "4c22a763",
   "metadata": {
    "scrolled": true
   },
   "outputs": [
    {
     "name": "stdout",
     "output_type": "stream",
     "text": [
      "root\n",
      " |-- path: string (nullable = true)\n",
      " |-- modificationTime: timestamp (nullable = true)\n",
      " |-- length: long (nullable = true)\n",
      " |-- content: binary (nullable = true)\n",
      " |-- fruit: string (nullable = true)\n",
      "\n",
      "None\n",
      "+---------------------------------------------------+--------------+\n",
      "|path                                               |fruit         |\n",
      "+---------------------------------------------------+--------------+\n",
      "|file:/C:/Users/laila/test/Apple Braeburn/3_100.jpg |Apple Braeburn|\n",
      "|file:/C:/Users/laila/test/Apple Braeburn/4_100.jpg |Apple Braeburn|\n",
      "|file:/C:/Users/laila/test/Apple Braeburn/8_100.jpg |Apple Braeburn|\n",
      "|file:/C:/Users/laila/test/Apple Braeburn/7_100.jpg |Apple Braeburn|\n",
      "|file:/C:/Users/laila/test/Apple Braeburn/6_100.jpg |Apple Braeburn|\n",
      "|file:/C:/Users/laila/test/Apple Braeburn/5_100.jpg |Apple Braeburn|\n",
      "|file:/C:/Users/laila/test/Apple Braeburn/33_100.jpg|Apple Braeburn|\n",
      "|file:/C:/Users/laila/test/Apple Braeburn/9_100.jpg |Apple Braeburn|\n",
      "|file:/C:/Users/laila/test/Apple Braeburn/32_100.jpg|Apple Braeburn|\n",
      "|file:/C:/Users/laila/test/Apple Braeburn/34_100.jpg|Apple Braeburn|\n",
      "+---------------------------------------------------+--------------+\n",
      "\n",
      "None\n"
     ]
    }
   ],
   "source": [
    "#On ajoute une nouvelle colonne 'fruit' à l'aide du nom du fruit présent dans 'path'\n",
    "data_img = data_img.withColumn('fruit', element_at(split(data_img['path'], '/'),-2))\n",
    "\n",
    "#On affiche le schema de nos manipulations\n",
    "print(data_img.printSchema())\n",
    "#On affiche le chemin et nom des fruits\n",
    "print(data_img.select('path','fruit').show(10,False))"
   ]
  },
  {
   "cell_type": "code",
   "execution_count": 10,
   "id": "c7acdefb",
   "metadata": {},
   "outputs": [
    {
     "data": {
      "text/plain": [
       "10"
      ]
     },
     "execution_count": 10,
     "metadata": {},
     "output_type": "execute_result"
    }
   ],
   "source": [
    "#On vérifie qu'il y a bien 10 images\n",
    "data_img.count()"
   ]
  },
  {
   "cell_type": "code",
   "execution_count": 11,
   "id": "06b96f31",
   "metadata": {},
   "outputs": [
    {
     "data": {
      "image/png": "[encoded data removed]",
      "text/plain": [
       "<PIL.JpegImagePlugin.JpegImageFile image mode=RGB size=100x100>"
      ]
     },
     "execution_count": 11,
     "metadata": {},
     "output_type": "execute_result"
    }
   ],
   "source": [
    "from PIL import Image\n",
    "import io\n",
    "\n",
    "#collect permet simplement de lancer l’évaluation effective des transformations en amont.\n",
    "collect = data_img.select('content').collect()\n",
    "\n",
    "#image située dans la première ligne, première colonne\n",
    "image1 = collect[0][0]\n",
    "image_1 =Image.open(io.BytesIO(image1 ))\n",
    "image_1"
   ]
  },
  {
   "cell_type": "code",
   "execution_count": 12,
   "id": "71600362",
   "metadata": {},
   "outputs": [
    {
     "data": {
      "text/plain": [
       "(100, 100)"
      ]
     },
     "execution_count": 12,
     "metadata": {},
     "output_type": "execute_result"
    }
   ],
   "source": [
    "#Taille de l'image 1\n",
    "image_1.size"
   ]
  },
  {
   "cell_type": "markdown",
   "id": "1c054006",
   "metadata": {},
   "source": [
    "## <font color=\"red\" id=\"section_3\"> 3. Utilisation d'un modèle pré-entrainé ResNet50 </font>"
   ]
  },
  {
   "cell_type": "markdown",
   "id": "7c354d59",
   "metadata": {},
   "source": [
    "Nous allons utiliséun algotirhme de transfer learning, mais aussi modèle pré-entrainé \n",
    "sur une multitude d'images puisque nous ne devons pas, dans ce projet, entrainé un modèle.\n",
    "Prenons le modèle CNN Réseau de neurones ResNet50."
   ]
  },
  {
   "cell_type": "markdown",
   "id": "66121987",
   "metadata": {},
   "source": [
    "ResNet-50 est un réseau neuronal convolutif de 50 couches de profondeur. \n",
    "Vous pouvez charger une version pré-entraînée du réseau formée sur plus d'un million d'images à partir \n",
    "de la base de données ImageNet [1] . Le réseau pré-entraîné peut classer les images en 1000 catégories d'objets,\n",
    "telles que les fruits, le clavier, la souris, le crayon et de nombreux animaux. En conséquence, le réseau a appris des\n",
    "représentations de caractéristiques riches pour une large gamme d'images. Le réseau a une taille d'entrée d'image\n",
    "de 224 par 224."
   ]
  },
  {
   "cell_type": "raw",
   "id": "bcf4c2a4",
   "metadata": {},
   "source": [
    "pip install sparkdl"
   ]
  },
  {
   "cell_type": "raw",
   "id": "b58f9821",
   "metadata": {},
   "source": [
    "pip install keras"
   ]
  },
  {
   "cell_type": "raw",
   "id": "69ce2c79",
   "metadata": {},
   "source": [
    "pip install tensorframes"
   ]
  },
  {
   "cell_type": "raw",
   "id": "8d8a79d1",
   "metadata": {},
   "source": [
    "pip install tensorflow"
   ]
  },
  {
   "cell_type": "raw",
   "id": "b82137e1",
   "metadata": {},
   "source": [
    "pip install pandas==1.3.0 --user"
   ]
  },
  {
   "cell_type": "raw",
   "id": "f9faded7",
   "metadata": {},
   "source": [
    "pip install pyarrow==3.0.0 --user"
   ]
  },
  {
   "cell_type": "code",
   "execution_count": 13,
   "id": "992008b0",
   "metadata": {
    "scrolled": true
   },
   "outputs": [
    {
     "name": "stdout",
     "output_type": "stream",
     "text": [
      "Model: \"resnet50\"\n",
      "__________________________________________________________________________________________________\n",
      " Layer (type)                   Output Shape         Param #     Connected to                     \n",
      "==================================================================================================\n",
      " input_1 (InputLayer)           [(None, None, None,  0           []                               \n",
      "                                 3)]                                                              \n",
      "                                                                                                  \n",
      " conv1_pad (ZeroPadding2D)      (None, None, None,   0           ['input_1[0][0]']                \n",
      "                                3)                                                                \n",
      "                                                                                                  \n",
      " conv1_conv (Conv2D)            (None, None, None,   9472        ['conv1_pad[0][0]']              \n",
      "                                64)                                                               \n",
      "                                                                                                  \n",
      " conv1_bn (BatchNormalization)  (None, None, None,   256         ['conv1_conv[0][0]']             \n",
      "                                64)                                                               \n",
      "                                                                                                  \n",
      " conv1_relu (Activation)        (None, None, None,   0           ['conv1_bn[0][0]']               \n",
      "                                64)                                                               \n",
      "                                                                                                  \n",
      " pool1_pad (ZeroPadding2D)      (None, None, None,   0           ['conv1_relu[0][0]']             \n",
      "                                64)                                                               \n",
      "                                                                                                  \n",
      " pool1_pool (MaxPooling2D)      (None, None, None,   0           ['pool1_pad[0][0]']              \n",
      "                                64)                                                               \n",
      "                                                                                                  \n",
      " conv2_block1_1_conv (Conv2D)   (None, None, None,   4160        ['pool1_pool[0][0]']             \n",
      "                                64)                                                               \n",
      "                                                                                                  \n",
      " conv2_block1_1_bn (BatchNormal  (None, None, None,   256        ['conv2_block1_1_conv[0][0]']    \n",
      " ization)                       64)                                                               \n",
      "                                                                                                  \n",
      " conv2_block1_1_relu (Activatio  (None, None, None,   0          ['conv2_block1_1_bn[0][0]']      \n",
      " n)                             64)                                                               \n",
      "                                                                                                  \n",
      " conv2_block1_2_conv (Conv2D)   (None, None, None,   36928       ['conv2_block1_1_relu[0][0]']    \n",
      "                                64)                                                               \n",
      "                                                                                                  \n",
      " conv2_block1_2_bn (BatchNormal  (None, None, None,   256        ['conv2_block1_2_conv[0][0]']    \n",
      " ization)                       64)                                                               \n",
      "                                                                                                  \n",
      " conv2_block1_2_relu (Activatio  (None, None, None,   0          ['conv2_block1_2_bn[0][0]']      \n",
      " n)                             64)                                                               \n",
      "                                                                                                  \n",
      " conv2_block1_0_conv (Conv2D)   (None, None, None,   16640       ['pool1_pool[0][0]']             \n",
      "                                256)                                                              \n",
      "                                                                                                  \n",
      " conv2_block1_3_conv (Conv2D)   (None, None, None,   16640       ['conv2_block1_2_relu[0][0]']    \n",
      "                                256)                                                              \n",
      "                                                                                                  \n",
      " conv2_block1_0_bn (BatchNormal  (None, None, None,   1024       ['conv2_block1_0_conv[0][0]']    \n",
      " ization)                       256)                                                              \n",
      "                                                                                                  \n",
      " conv2_block1_3_bn (BatchNormal  (None, None, None,   1024       ['conv2_block1_3_conv[0][0]']    \n",
      " ization)                       256)                                                              \n",
      "                                                                                                  \n",
      " conv2_block1_add (Add)         (None, None, None,   0           ['conv2_block1_0_bn[0][0]',      \n",
      "                                256)                              'conv2_block1_3_bn[0][0]']      \n",
      "                                                                                                  \n",
      " conv2_block1_out (Activation)  (None, None, None,   0           ['conv2_block1_add[0][0]']       \n",
      "                                256)                                                              \n",
      "                                                                                                  \n",
      " conv2_block2_1_conv (Conv2D)   (None, None, None,   16448       ['conv2_block1_out[0][0]']       \n",
      "                                64)                                                               \n",
      "                                                                                                  \n",
      " conv2_block2_1_bn (BatchNormal  (None, None, None,   256        ['conv2_block2_1_conv[0][0]']    \n",
      " ization)                       64)                                                               \n",
      "                                                                                                  \n",
      " conv2_block2_1_relu (Activatio  (None, None, None,   0          ['conv2_block2_1_bn[0][0]']      \n",
      " n)                             64)                                                               \n",
      "                                                                                                  \n",
      " conv2_block2_2_conv (Conv2D)   (None, None, None,   36928       ['conv2_block2_1_relu[0][0]']    \n",
      "                                64)                                                               \n",
      "                                                                                                  \n",
      " conv2_block2_2_bn (BatchNormal  (None, None, None,   256        ['conv2_block2_2_conv[0][0]']    \n",
      " ization)                       64)                                                               \n",
      "                                                                                                  \n",
      " conv2_block2_2_relu (Activatio  (None, None, None,   0          ['conv2_block2_2_bn[0][0]']      \n",
      " n)                             64)                                                               \n",
      "                                                                                                  \n",
      " conv2_block2_3_conv (Conv2D)   (None, None, None,   16640       ['conv2_block2_2_relu[0][0]']    \n",
      "                                256)                                                              \n",
      "                                                                                                  \n",
      " conv2_block2_3_bn (BatchNormal  (None, None, None,   1024       ['conv2_block2_3_conv[0][0]']    \n",
      " ization)                       256)                                                              \n"
     ]
    },
    {
     "name": "stdout",
     "output_type": "stream",
     "text": [
      "                                                                                                  \n",
      " conv2_block2_add (Add)         (None, None, None,   0           ['conv2_block1_out[0][0]',       \n",
      "                                256)                              'conv2_block2_3_bn[0][0]']      \n",
      "                                                                                                  \n",
      " conv2_block2_out (Activation)  (None, None, None,   0           ['conv2_block2_add[0][0]']       \n",
      "                                256)                                                              \n",
      "                                                                                                  \n",
      " conv2_block3_1_conv (Conv2D)   (None, None, None,   16448       ['conv2_block2_out[0][0]']       \n",
      "                                64)                                                               \n",
      "                                                                                                  \n",
      " conv2_block3_1_bn (BatchNormal  (None, None, None,   256        ['conv2_block3_1_conv[0][0]']    \n",
      " ization)                       64)                                                               \n",
      "                                                                                                  \n",
      " conv2_block3_1_relu (Activatio  (None, None, None,   0          ['conv2_block3_1_bn[0][0]']      \n",
      " n)                             64)                                                               \n",
      "                                                                                                  \n",
      " conv2_block3_2_conv (Conv2D)   (None, None, None,   36928       ['conv2_block3_1_relu[0][0]']    \n",
      "                                64)                                                               \n",
      "                                                                                                  \n",
      " conv2_block3_2_bn (BatchNormal  (None, None, None,   256        ['conv2_block3_2_conv[0][0]']    \n",
      " ization)                       64)                                                               \n",
      "                                                                                                  \n",
      " conv2_block3_2_relu (Activatio  (None, None, None,   0          ['conv2_block3_2_bn[0][0]']      \n",
      " n)                             64)                                                               \n",
      "                                                                                                  \n",
      " conv2_block3_3_conv (Conv2D)   (None, None, None,   16640       ['conv2_block3_2_relu[0][0]']    \n",
      "                                256)                                                              \n",
      "                                                                                                  \n",
      " conv2_block3_3_bn (BatchNormal  (None, None, None,   1024       ['conv2_block3_3_conv[0][0]']    \n",
      " ization)                       256)                                                              \n",
      "                                                                                                  \n",
      " conv2_block3_add (Add)         (None, None, None,   0           ['conv2_block2_out[0][0]',       \n",
      "                                256)                              'conv2_block3_3_bn[0][0]']      \n",
      "                                                                                                  \n",
      " conv2_block3_out (Activation)  (None, None, None,   0           ['conv2_block3_add[0][0]']       \n",
      "                                256)                                                              \n",
      "                                                                                                  \n",
      " conv3_block1_1_conv (Conv2D)   (None, None, None,   32896       ['conv2_block3_out[0][0]']       \n",
      "                                128)                                                              \n",
      "                                                                                                  \n",
      " conv3_block1_1_bn (BatchNormal  (None, None, None,   512        ['conv3_block1_1_conv[0][0]']    \n",
      " ization)                       128)                                                              \n",
      "                                                                                                  \n",
      " conv3_block1_1_relu (Activatio  (None, None, None,   0          ['conv3_block1_1_bn[0][0]']      \n",
      " n)                             128)                                                              \n",
      "                                                                                                  \n",
      " conv3_block1_2_conv (Conv2D)   (None, None, None,   147584      ['conv3_block1_1_relu[0][0]']    \n",
      "                                128)                                                              \n",
      "                                                                                                  \n",
      " conv3_block1_2_bn (BatchNormal  (None, None, None,   512        ['conv3_block1_2_conv[0][0]']    \n",
      " ization)                       128)                                                              \n",
      "                                                                                                  \n",
      " conv3_block1_2_relu (Activatio  (None, None, None,   0          ['conv3_block1_2_bn[0][0]']      \n",
      " n)                             128)                                                              \n",
      "                                                                                                  \n",
      " conv3_block1_0_conv (Conv2D)   (None, None, None,   131584      ['conv2_block3_out[0][0]']       \n",
      "                                512)                                                              \n",
      "                                                                                                  \n",
      " conv3_block1_3_conv (Conv2D)   (None, None, None,   66048       ['conv3_block1_2_relu[0][0]']    \n",
      "                                512)                                                              \n",
      "                                                                                                  \n",
      " conv3_block1_0_bn (BatchNormal  (None, None, None,   2048       ['conv3_block1_0_conv[0][0]']    \n",
      " ization)                       512)                                                              \n",
      "                                                                                                  \n",
      " conv3_block1_3_bn (BatchNormal  (None, None, None,   2048       ['conv3_block1_3_conv[0][0]']    \n",
      " ization)                       512)                                                              \n",
      "                                                                                                  \n",
      " conv3_block1_add (Add)         (None, None, None,   0           ['conv3_block1_0_bn[0][0]',      \n",
      "                                512)                              'conv3_block1_3_bn[0][0]']      \n",
      "                                                                                                  \n",
      " conv3_block1_out (Activation)  (None, None, None,   0           ['conv3_block1_add[0][0]']       \n",
      "                                512)                                                              \n",
      "                                                                                                  \n",
      " conv3_block2_1_conv (Conv2D)   (None, None, None,   65664       ['conv3_block1_out[0][0]']       \n",
      "                                128)                                                              \n",
      "                                                                                                  \n",
      " conv3_block2_1_bn (BatchNormal  (None, None, None,   512        ['conv3_block2_1_conv[0][0]']    \n",
      " ization)                       128)                                                              \n",
      "                                                                                                  \n",
      " conv3_block2_1_relu (Activatio  (None, None, None,   0          ['conv3_block2_1_bn[0][0]']      \n",
      " n)                             128)                                                              \n",
      "                                                                                                  \n",
      " conv3_block2_2_conv (Conv2D)   (None, None, None,   147584      ['conv3_block2_1_relu[0][0]']    \n"
     ]
    },
    {
     "name": "stdout",
     "output_type": "stream",
     "text": [
      "                                128)                                                              \n",
      "                                                                                                  \n",
      " conv3_block2_2_bn (BatchNormal  (None, None, None,   512        ['conv3_block2_2_conv[0][0]']    \n",
      " ization)                       128)                                                              \n",
      "                                                                                                  \n",
      " conv3_block2_2_relu (Activatio  (None, None, None,   0          ['conv3_block2_2_bn[0][0]']      \n",
      " n)                             128)                                                              \n",
      "                                                                                                  \n",
      " conv3_block2_3_conv (Conv2D)   (None, None, None,   66048       ['conv3_block2_2_relu[0][0]']    \n",
      "                                512)                                                              \n",
      "                                                                                                  \n",
      " conv3_block2_3_bn (BatchNormal  (None, None, None,   2048       ['conv3_block2_3_conv[0][0]']    \n",
      " ization)                       512)                                                              \n",
      "                                                                                                  \n",
      " conv3_block2_add (Add)         (None, None, None,   0           ['conv3_block1_out[0][0]',       \n",
      "                                512)                              'conv3_block2_3_bn[0][0]']      \n",
      "                                                                                                  \n",
      " conv3_block2_out (Activation)  (None, None, None,   0           ['conv3_block2_add[0][0]']       \n",
      "                                512)                                                              \n",
      "                                                                                                  \n",
      " conv3_block3_1_conv (Conv2D)   (None, None, None,   65664       ['conv3_block2_out[0][0]']       \n",
      "                                128)                                                              \n",
      "                                                                                                  \n",
      " conv3_block3_1_bn (BatchNormal  (None, None, None,   512        ['conv3_block3_1_conv[0][0]']    \n",
      " ization)                       128)                                                              \n",
      "                                                                                                  \n",
      " conv3_block3_1_relu (Activatio  (None, None, None,   0          ['conv3_block3_1_bn[0][0]']      \n",
      " n)                             128)                                                              \n",
      "                                                                                                  \n",
      " conv3_block3_2_conv (Conv2D)   (None, None, None,   147584      ['conv3_block3_1_relu[0][0]']    \n",
      "                                128)                                                              \n",
      "                                                                                                  \n",
      " conv3_block3_2_bn (BatchNormal  (None, None, None,   512        ['conv3_block3_2_conv[0][0]']    \n",
      " ization)                       128)                                                              \n",
      "                                                                                                  \n",
      " conv3_block3_2_relu (Activatio  (None, None, None,   0          ['conv3_block3_2_bn[0][0]']      \n",
      " n)                             128)                                                              \n",
      "                                                                                                  \n",
      " conv3_block3_3_conv (Conv2D)   (None, None, None,   66048       ['conv3_block3_2_relu[0][0]']    \n",
      "                                512)                                                              \n",
      "                                                                                                  \n",
      " conv3_block3_3_bn (BatchNormal  (None, None, None,   2048       ['conv3_block3_3_conv[0][0]']    \n",
      " ization)                       512)                                                              \n",
      "                                                                                                  \n",
      " conv3_block3_add (Add)         (None, None, None,   0           ['conv3_block2_out[0][0]',       \n",
      "                                512)                              'conv3_block3_3_bn[0][0]']      \n",
      "                                                                                                  \n",
      " conv3_block3_out (Activation)  (None, None, None,   0           ['conv3_block3_add[0][0]']       \n",
      "                                512)                                                              \n",
      "                                                                                                  \n",
      " conv3_block4_1_conv (Conv2D)   (None, None, None,   65664       ['conv3_block3_out[0][0]']       \n",
      "                                128)                                                              \n",
      "                                                                                                  \n",
      " conv3_block4_1_bn (BatchNormal  (None, None, None,   512        ['conv3_block4_1_conv[0][0]']    \n",
      " ization)                       128)                                                              \n",
      "                                                                                                  \n",
      " conv3_block4_1_relu (Activatio  (None, None, None,   0          ['conv3_block4_1_bn[0][0]']      \n",
      " n)                             128)                                                              \n",
      "                                                                                                  \n",
      " conv3_block4_2_conv (Conv2D)   (None, None, None,   147584      ['conv3_block4_1_relu[0][0]']    \n",
      "                                128)                                                              \n",
      "                                                                                                  \n",
      " conv3_block4_2_bn (BatchNormal  (None, None, None,   512        ['conv3_block4_2_conv[0][0]']    \n",
      " ization)                       128)                                                              \n",
      "                                                                                                  \n",
      " conv3_block4_2_relu (Activatio  (None, None, None,   0          ['conv3_block4_2_bn[0][0]']      \n",
      " n)                             128)                                                              \n",
      "                                                                                                  \n",
      " conv3_block4_3_conv (Conv2D)   (None, None, None,   66048       ['conv3_block4_2_relu[0][0]']    \n",
      "                                512)                                                              \n",
      "                                                                                                  \n",
      " conv3_block4_3_bn (BatchNormal  (None, None, None,   2048       ['conv3_block4_3_conv[0][0]']    \n",
      " ization)                       512)                                                              \n",
      "                                                                                                  \n",
      " conv3_block4_add (Add)         (None, None, None,   0           ['conv3_block3_out[0][0]',       \n",
      "                                512)                              'conv3_block4_3_bn[0][0]']      \n",
      "                                                                                                  \n",
      " conv3_block4_out (Activation)  (None, None, None,   0           ['conv3_block4_add[0][0]']       \n",
      "                                512)                                                              \n",
      "                                                                                                  \n",
      " conv4_block1_1_conv (Conv2D)   (None, None, None,   131328      ['conv3_block4_out[0][0]']       \n",
      "                                256)                                                              \n",
      "                                                                                                  \n"
     ]
    },
    {
     "name": "stdout",
     "output_type": "stream",
     "text": [
      " conv4_block1_1_bn (BatchNormal  (None, None, None,   1024       ['conv4_block1_1_conv[0][0]']    \n",
      " ization)                       256)                                                              \n",
      "                                                                                                  \n",
      " conv4_block1_1_relu (Activatio  (None, None, None,   0          ['conv4_block1_1_bn[0][0]']      \n",
      " n)                             256)                                                              \n",
      "                                                                                                  \n",
      " conv4_block1_2_conv (Conv2D)   (None, None, None,   590080      ['conv4_block1_1_relu[0][0]']    \n",
      "                                256)                                                              \n",
      "                                                                                                  \n",
      " conv4_block1_2_bn (BatchNormal  (None, None, None,   1024       ['conv4_block1_2_conv[0][0]']    \n",
      " ization)                       256)                                                              \n",
      "                                                                                                  \n",
      " conv4_block1_2_relu (Activatio  (None, None, None,   0          ['conv4_block1_2_bn[0][0]']      \n",
      " n)                             256)                                                              \n",
      "                                                                                                  \n",
      " conv4_block1_0_conv (Conv2D)   (None, None, None,   525312      ['conv3_block4_out[0][0]']       \n",
      "                                1024)                                                             \n",
      "                                                                                                  \n",
      " conv4_block1_3_conv (Conv2D)   (None, None, None,   263168      ['conv4_block1_2_relu[0][0]']    \n",
      "                                1024)                                                             \n",
      "                                                                                                  \n",
      " conv4_block1_0_bn (BatchNormal  (None, None, None,   4096       ['conv4_block1_0_conv[0][0]']    \n",
      " ization)                       1024)                                                             \n",
      "                                                                                                  \n",
      " conv4_block1_3_bn (BatchNormal  (None, None, None,   4096       ['conv4_block1_3_conv[0][0]']    \n",
      " ization)                       1024)                                                             \n",
      "                                                                                                  \n",
      " conv4_block1_add (Add)         (None, None, None,   0           ['conv4_block1_0_bn[0][0]',      \n",
      "                                1024)                             'conv4_block1_3_bn[0][0]']      \n",
      "                                                                                                  \n",
      " conv4_block1_out (Activation)  (None, None, None,   0           ['conv4_block1_add[0][0]']       \n",
      "                                1024)                                                             \n",
      "                                                                                                  \n",
      " conv4_block2_1_conv (Conv2D)   (None, None, None,   262400      ['conv4_block1_out[0][0]']       \n",
      "                                256)                                                              \n",
      "                                                                                                  \n",
      " conv4_block2_1_bn (BatchNormal  (None, None, None,   1024       ['conv4_block2_1_conv[0][0]']    \n",
      " ization)                       256)                                                              \n",
      "                                                                                                  \n",
      " conv4_block2_1_relu (Activatio  (None, None, None,   0          ['conv4_block2_1_bn[0][0]']      \n",
      " n)                             256)                                                              \n",
      "                                                                                                  \n",
      " conv4_block2_2_conv (Conv2D)   (None, None, None,   590080      ['conv4_block2_1_relu[0][0]']    \n",
      "                                256)                                                              \n",
      "                                                                                                  \n",
      " conv4_block2_2_bn (BatchNormal  (None, None, None,   1024       ['conv4_block2_2_conv[0][0]']    \n",
      " ization)                       256)                                                              \n",
      "                                                                                                  \n",
      " conv4_block2_2_relu (Activatio  (None, None, None,   0          ['conv4_block2_2_bn[0][0]']      \n",
      " n)                             256)                                                              \n",
      "                                                                                                  \n",
      " conv4_block2_3_conv (Conv2D)   (None, None, None,   263168      ['conv4_block2_2_relu[0][0]']    \n",
      "                                1024)                                                             \n",
      "                                                                                                  \n",
      " conv4_block2_3_bn (BatchNormal  (None, None, None,   4096       ['conv4_block2_3_conv[0][0]']    \n",
      " ization)                       1024)                                                             \n",
      "                                                                                                  \n",
      " conv4_block2_add (Add)         (None, None, None,   0           ['conv4_block1_out[0][0]',       \n",
      "                                1024)                             'conv4_block2_3_bn[0][0]']      \n",
      "                                                                                                  \n",
      " conv4_block2_out (Activation)  (None, None, None,   0           ['conv4_block2_add[0][0]']       \n",
      "                                1024)                                                             \n",
      "                                                                                                  \n",
      " conv4_block3_1_conv (Conv2D)   (None, None, None,   262400      ['conv4_block2_out[0][0]']       \n",
      "                                256)                                                              \n",
      "                                                                                                  \n",
      " conv4_block3_1_bn (BatchNormal  (None, None, None,   1024       ['conv4_block3_1_conv[0][0]']    \n",
      " ization)                       256)                                                              \n",
      "                                                                                                  \n",
      " conv4_block3_1_relu (Activatio  (None, None, None,   0          ['conv4_block3_1_bn[0][0]']      \n",
      " n)                             256)                                                              \n",
      "                                                                                                  \n",
      " conv4_block3_2_conv (Conv2D)   (None, None, None,   590080      ['conv4_block3_1_relu[0][0]']    \n",
      "                                256)                                                              \n",
      "                                                                                                  \n",
      " conv4_block3_2_bn (BatchNormal  (None, None, None,   1024       ['conv4_block3_2_conv[0][0]']    \n",
      " ization)                       256)                                                              \n",
      "                                                                                                  \n",
      " conv4_block3_2_relu (Activatio  (None, None, None,   0          ['conv4_block3_2_bn[0][0]']      \n",
      " n)                             256)                                                              \n",
      "                                                                                                  \n",
      " conv4_block3_3_conv (Conv2D)   (None, None, None,   263168      ['conv4_block3_2_relu[0][0]']    \n",
      "                                1024)                                                             \n"
     ]
    },
    {
     "name": "stdout",
     "output_type": "stream",
     "text": [
      "                                                                                                  \n",
      " conv4_block3_3_bn (BatchNormal  (None, None, None,   4096       ['conv4_block3_3_conv[0][0]']    \n",
      " ization)                       1024)                                                             \n",
      "                                                                                                  \n",
      " conv4_block3_add (Add)         (None, None, None,   0           ['conv4_block2_out[0][0]',       \n",
      "                                1024)                             'conv4_block3_3_bn[0][0]']      \n",
      "                                                                                                  \n",
      " conv4_block3_out (Activation)  (None, None, None,   0           ['conv4_block3_add[0][0]']       \n",
      "                                1024)                                                             \n",
      "                                                                                                  \n",
      " conv4_block4_1_conv (Conv2D)   (None, None, None,   262400      ['conv4_block3_out[0][0]']       \n",
      "                                256)                                                              \n",
      "                                                                                                  \n",
      " conv4_block4_1_bn (BatchNormal  (None, None, None,   1024       ['conv4_block4_1_conv[0][0]']    \n",
      " ization)                       256)                                                              \n",
      "                                                                                                  \n",
      " conv4_block4_1_relu (Activatio  (None, None, None,   0          ['conv4_block4_1_bn[0][0]']      \n",
      " n)                             256)                                                              \n",
      "                                                                                                  \n",
      " conv4_block4_2_conv (Conv2D)   (None, None, None,   590080      ['conv4_block4_1_relu[0][0]']    \n",
      "                                256)                                                              \n",
      "                                                                                                  \n",
      " conv4_block4_2_bn (BatchNormal  (None, None, None,   1024       ['conv4_block4_2_conv[0][0]']    \n",
      " ization)                       256)                                                              \n",
      "                                                                                                  \n",
      " conv4_block4_2_relu (Activatio  (None, None, None,   0          ['conv4_block4_2_bn[0][0]']      \n",
      " n)                             256)                                                              \n",
      "                                                                                                  \n",
      " conv4_block4_3_conv (Conv2D)   (None, None, None,   263168      ['conv4_block4_2_relu[0][0]']    \n",
      "                                1024)                                                             \n",
      "                                                                                                  \n",
      " conv4_block4_3_bn (BatchNormal  (None, None, None,   4096       ['conv4_block4_3_conv[0][0]']    \n",
      " ization)                       1024)                                                             \n",
      "                                                                                                  \n",
      " conv4_block4_add (Add)         (None, None, None,   0           ['conv4_block3_out[0][0]',       \n",
      "                                1024)                             'conv4_block4_3_bn[0][0]']      \n",
      "                                                                                                  \n",
      " conv4_block4_out (Activation)  (None, None, None,   0           ['conv4_block4_add[0][0]']       \n",
      "                                1024)                                                             \n",
      "                                                                                                  \n",
      " conv4_block5_1_conv (Conv2D)   (None, None, None,   262400      ['conv4_block4_out[0][0]']       \n",
      "                                256)                                                              \n",
      "                                                                                                  \n",
      " conv4_block5_1_bn (BatchNormal  (None, None, None,   1024       ['conv4_block5_1_conv[0][0]']    \n",
      " ization)                       256)                                                              \n",
      "                                                                                                  \n",
      " conv4_block5_1_relu (Activatio  (None, None, None,   0          ['conv4_block5_1_bn[0][0]']      \n",
      " n)                             256)                                                              \n",
      "                                                                                                  \n",
      " conv4_block5_2_conv (Conv2D)   (None, None, None,   590080      ['conv4_block5_1_relu[0][0]']    \n",
      "                                256)                                                              \n",
      "                                                                                                  \n",
      " conv4_block5_2_bn (BatchNormal  (None, None, None,   1024       ['conv4_block5_2_conv[0][0]']    \n",
      " ization)                       256)                                                              \n",
      "                                                                                                  \n",
      " conv4_block5_2_relu (Activatio  (None, None, None,   0          ['conv4_block5_2_bn[0][0]']      \n",
      " n)                             256)                                                              \n",
      "                                                                                                  \n",
      " conv4_block5_3_conv (Conv2D)   (None, None, None,   263168      ['conv4_block5_2_relu[0][0]']    \n",
      "                                1024)                                                             \n",
      "                                                                                                  \n",
      " conv4_block5_3_bn (BatchNormal  (None, None, None,   4096       ['conv4_block5_3_conv[0][0]']    \n",
      " ization)                       1024)                                                             \n",
      "                                                                                                  \n",
      " conv4_block5_add (Add)         (None, None, None,   0           ['conv4_block4_out[0][0]',       \n",
      "                                1024)                             'conv4_block5_3_bn[0][0]']      \n",
      "                                                                                                  \n",
      " conv4_block5_out (Activation)  (None, None, None,   0           ['conv4_block5_add[0][0]']       \n",
      "                                1024)                                                             \n",
      "                                                                                                  \n",
      " conv4_block6_1_conv (Conv2D)   (None, None, None,   262400      ['conv4_block5_out[0][0]']       \n",
      "                                256)                                                              \n",
      "                                                                                                  \n",
      " conv4_block6_1_bn (BatchNormal  (None, None, None,   1024       ['conv4_block6_1_conv[0][0]']    \n",
      " ization)                       256)                                                              \n",
      "                                                                                                  \n",
      " conv4_block6_1_relu (Activatio  (None, None, None,   0          ['conv4_block6_1_bn[0][0]']      \n",
      " n)                             256)                                                              \n",
      "                                                                                                  \n",
      " conv4_block6_2_conv (Conv2D)   (None, None, None,   590080      ['conv4_block6_1_relu[0][0]']    \n",
      "                                256)                                                              \n",
      "                                                                                                  \n",
      " conv4_block6_2_bn (BatchNormal  (None, None, None,   1024       ['conv4_block6_2_conv[0][0]']    \n"
     ]
    },
    {
     "name": "stdout",
     "output_type": "stream",
     "text": [
      " ization)                       256)                                                              \n",
      "                                                                                                  \n",
      " conv4_block6_2_relu (Activatio  (None, None, None,   0          ['conv4_block6_2_bn[0][0]']      \n",
      " n)                             256)                                                              \n",
      "                                                                                                  \n",
      " conv4_block6_3_conv (Conv2D)   (None, None, None,   263168      ['conv4_block6_2_relu[0][0]']    \n",
      "                                1024)                                                             \n",
      "                                                                                                  \n",
      " conv4_block6_3_bn (BatchNormal  (None, None, None,   4096       ['conv4_block6_3_conv[0][0]']    \n",
      " ization)                       1024)                                                             \n",
      "                                                                                                  \n",
      " conv4_block6_add (Add)         (None, None, None,   0           ['conv4_block5_out[0][0]',       \n",
      "                                1024)                             'conv4_block6_3_bn[0][0]']      \n",
      "                                                                                                  \n",
      " conv4_block6_out (Activation)  (None, None, None,   0           ['conv4_block6_add[0][0]']       \n",
      "                                1024)                                                             \n",
      "                                                                                                  \n",
      " conv5_block1_1_conv (Conv2D)   (None, None, None,   524800      ['conv4_block6_out[0][0]']       \n",
      "                                512)                                                              \n",
      "                                                                                                  \n",
      " conv5_block1_1_bn (BatchNormal  (None, None, None,   2048       ['conv5_block1_1_conv[0][0]']    \n",
      " ization)                       512)                                                              \n",
      "                                                                                                  \n",
      " conv5_block1_1_relu (Activatio  (None, None, None,   0          ['conv5_block1_1_bn[0][0]']      \n",
      " n)                             512)                                                              \n",
      "                                                                                                  \n",
      " conv5_block1_2_conv (Conv2D)   (None, None, None,   2359808     ['conv5_block1_1_relu[0][0]']    \n",
      "                                512)                                                              \n",
      "                                                                                                  \n",
      " conv5_block1_2_bn (BatchNormal  (None, None, None,   2048       ['conv5_block1_2_conv[0][0]']    \n",
      " ization)                       512)                                                              \n",
      "                                                                                                  \n",
      " conv5_block1_2_relu (Activatio  (None, None, None,   0          ['conv5_block1_2_bn[0][0]']      \n",
      " n)                             512)                                                              \n",
      "                                                                                                  \n",
      " conv5_block1_0_conv (Conv2D)   (None, None, None,   2099200     ['conv4_block6_out[0][0]']       \n",
      "                                2048)                                                             \n",
      "                                                                                                  \n",
      " conv5_block1_3_conv (Conv2D)   (None, None, None,   1050624     ['conv5_block1_2_relu[0][0]']    \n",
      "                                2048)                                                             \n",
      "                                                                                                  \n",
      " conv5_block1_0_bn (BatchNormal  (None, None, None,   8192       ['conv5_block1_0_conv[0][0]']    \n",
      " ization)                       2048)                                                             \n",
      "                                                                                                  \n",
      " conv5_block1_3_bn (BatchNormal  (None, None, None,   8192       ['conv5_block1_3_conv[0][0]']    \n",
      " ization)                       2048)                                                             \n",
      "                                                                                                  \n",
      " conv5_block1_add (Add)         (None, None, None,   0           ['conv5_block1_0_bn[0][0]',      \n",
      "                                2048)                             'conv5_block1_3_bn[0][0]']      \n",
      "                                                                                                  \n",
      " conv5_block1_out (Activation)  (None, None, None,   0           ['conv5_block1_add[0][0]']       \n",
      "                                2048)                                                             \n",
      "                                                                                                  \n",
      " conv5_block2_1_conv (Conv2D)   (None, None, None,   1049088     ['conv5_block1_out[0][0]']       \n",
      "                                512)                                                              \n",
      "                                                                                                  \n",
      " conv5_block2_1_bn (BatchNormal  (None, None, None,   2048       ['conv5_block2_1_conv[0][0]']    \n",
      " ization)                       512)                                                              \n",
      "                                                                                                  \n",
      " conv5_block2_1_relu (Activatio  (None, None, None,   0          ['conv5_block2_1_bn[0][0]']      \n",
      " n)                             512)                                                              \n",
      "                                                                                                  \n",
      " conv5_block2_2_conv (Conv2D)   (None, None, None,   2359808     ['conv5_block2_1_relu[0][0]']    \n",
      "                                512)                                                              \n",
      "                                                                                                  \n",
      " conv5_block2_2_bn (BatchNormal  (None, None, None,   2048       ['conv5_block2_2_conv[0][0]']    \n",
      " ization)                       512)                                                              \n",
      "                                                                                                  \n",
      " conv5_block2_2_relu (Activatio  (None, None, None,   0          ['conv5_block2_2_bn[0][0]']      \n",
      " n)                             512)                                                              \n",
      "                                                                                                  \n",
      " conv5_block2_3_conv (Conv2D)   (None, None, None,   1050624     ['conv5_block2_2_relu[0][0]']    \n",
      "                                2048)                                                             \n",
      "                                                                                                  \n",
      " conv5_block2_3_bn (BatchNormal  (None, None, None,   8192       ['conv5_block2_3_conv[0][0]']    \n",
      " ization)                       2048)                                                             \n",
      "                                                                                                  \n",
      " conv5_block2_add (Add)         (None, None, None,   0           ['conv5_block1_out[0][0]',       \n",
      "                                2048)                             'conv5_block2_3_bn[0][0]']      \n",
      "                                                                                                  \n",
      " conv5_block2_out (Activation)  (None, None, None,   0           ['conv5_block2_add[0][0]']       \n",
      "                                2048)                                                             \n",
      "                                                                                                  \n"
     ]
    },
    {
     "name": "stdout",
     "output_type": "stream",
     "text": [
      " conv5_block3_1_conv (Conv2D)   (None, None, None,   1049088     ['conv5_block2_out[0][0]']       \n",
      "                                512)                                                              \n",
      "                                                                                                  \n",
      " conv5_block3_1_bn (BatchNormal  (None, None, None,   2048       ['conv5_block3_1_conv[0][0]']    \n",
      " ization)                       512)                                                              \n",
      "                                                                                                  \n",
      " conv5_block3_1_relu (Activatio  (None, None, None,   0          ['conv5_block3_1_bn[0][0]']      \n",
      " n)                             512)                                                              \n",
      "                                                                                                  \n",
      " conv5_block3_2_conv (Conv2D)   (None, None, None,   2359808     ['conv5_block3_1_relu[0][0]']    \n",
      "                                512)                                                              \n",
      "                                                                                                  \n",
      " conv5_block3_2_bn (BatchNormal  (None, None, None,   2048       ['conv5_block3_2_conv[0][0]']    \n",
      " ization)                       512)                                                              \n",
      "                                                                                                  \n",
      " conv5_block3_2_relu (Activatio  (None, None, None,   0          ['conv5_block3_2_bn[0][0]']      \n",
      " n)                             512)                                                              \n",
      "                                                                                                  \n",
      " conv5_block3_3_conv (Conv2D)   (None, None, None,   1050624     ['conv5_block3_2_relu[0][0]']    \n",
      "                                2048)                                                             \n",
      "                                                                                                  \n",
      " conv5_block3_3_bn (BatchNormal  (None, None, None,   8192       ['conv5_block3_3_conv[0][0]']    \n",
      " ization)                       2048)                                                             \n",
      "                                                                                                  \n",
      " conv5_block3_add (Add)         (None, None, None,   0           ['conv5_block2_out[0][0]',       \n",
      "                                2048)                             'conv5_block3_3_bn[0][0]']      \n",
      "                                                                                                  \n",
      " conv5_block3_out (Activation)  (None, None, None,   0           ['conv5_block3_add[0][0]']       \n",
      "                                2048)                                                             \n",
      "                                                                                                  \n",
      " avg_pool (GlobalAveragePooling  (None, 2048)        0           ['conv5_block3_out[0][0]']       \n",
      " 2D)                                                                                              \n",
      "                                                                                                  \n",
      "==================================================================================================\n",
      "Total params: 23,587,712\n",
      "Trainable params: 23,534,592\n",
      "Non-trainable params: 53,120\n",
      "__________________________________________________________________________________________________\n"
     ]
    }
   ],
   "source": [
    "import tensorflow as tf\n",
    "from tensorflow.keras.applications.resnet50 import ResNet50, preprocess_input\n",
    "\n",
    "#'imagenet' : pré-formation sur ImageNet\n",
    "#pooling='avg' : la mise en commun moyenne globale sera appliquée à la sortie du dernier bloc convolutionnel,\n",
    "#et donc la sortie du modèle sera un tenseur 2D.\n",
    "model = ResNet50(include_top=False, weights='imagenet', pooling='avg')\n",
    "# On vérifie que la couche supérieure est supprimée\n",
    "model.summary() "
   ]
  },
  {
   "cell_type": "code",
   "execution_count": 14,
   "id": "afd773fd",
   "metadata": {},
   "outputs": [],
   "source": [
    "# distribution et transformation des données en leur attribuant un poids issu du modèle Resnet50\n",
    "bc_model_weights = sc.broadcast(model.get_weights())"
   ]
  },
  {
   "cell_type": "code",
   "execution_count": 15,
   "id": "d6f777b5",
   "metadata": {},
   "outputs": [],
   "source": [
    "#Fonction qui applique le modèle resnet50 aux données\n",
    "def model_fn():\n",
    "    \"\"\" \n",
    "    Retourne un modèle ResNet50 sans la couche supérieure et avec diffusion des poids pré-entraînés\n",
    "    \"\"\"\n",
    "    model = ResNet50(weights=None, include_top=False)\n",
    "    model.set_weights(bc_model_weights.value)\n",
    "    return model"
   ]
  },
  {
   "cell_type": "markdown",
   "id": "056c32ec",
   "metadata": {},
   "source": [
    "## <font color=\"red\" id=\"section_4\"> 4. Preprocessing et création des features </font>"
   ]
  },
  {
   "cell_type": "markdown",
   "id": "a9ab5548",
   "metadata": {},
   "source": [
    "Nous allons redimensionner les images en taille 224x224 car cela est nécessaire pour appliquer le modèle de transfer \n",
    "learning."
   ]
  },
  {
   "cell_type": "markdown",
   "id": "4f3fa274",
   "metadata": {},
   "source": [
    "Je me suis inspirée des scripts présent dans :\n",
    "    \"https://docs.databricks.com/machine-learning/preprocess-data/transfer-learning-tensorflow.html\""
   ]
  },
  {
   "cell_type": "code",
   "execution_count": 16,
   "id": "820602bd",
   "metadata": {},
   "outputs": [],
   "source": [
    "from tensorflow.keras.utils import img_to_array\n",
    "\n",
    "def preprocess(content):\n",
    "    '''\n",
    "    - Retourne des images prétraités pour la prédiction\n",
    "    '''\n",
    "    image = Image.open(io.BytesIO(content)).resize([224, 224])\n",
    "    array = img_to_array(image)\n",
    "    return preprocess_input(array)\n"
   ]
  },
  {
   "cell_type": "code",
   "execution_count": 17,
   "id": "81b06595",
   "metadata": {},
   "outputs": [
    {
     "name": "stderr",
     "output_type": "stream",
     "text": [
      "C:\\Spark\\python\\pyspark\\sql\\pandas\\functions.py:394: UserWarning: In Python 3.6+ and Spark 3.0+, it is preferred to specify type hints for pandas UDF instead of specifying pandas UDF type which will be deprecated in the future releases. See SPARK-28264 for more details.\n",
      "  warnings.warn(\n"
     ]
    }
   ],
   "source": [
    "import numpy as np\n",
    "import pandas as pd\n",
    "from pyspark.sql.functions import  col, pandas_udf, PandasUDFType\n",
    "from pyspark.sql.types import ArrayType, IntegerType, FloatType, StringType\n",
    "\n",
    "def featurize_series(model, content_series):\n",
    "    '''\n",
    "    - Extraction des features d'un pd.Series d'images brutes à l'aide du modèle d'entrée\n",
    "    - Retourne un pd.Série de features des images\n",
    "    '''\n",
    "    input = np.stack(content_series.map(preprocess))\n",
    "    preds = model.predict(input)\n",
    "    # Pour certaines couches, les entités de sortie seront des tenseurs multidimensionnels.\n",
    "    # Nous aplatissons les tenseurs de caractéristiques en vecteurs pour un stockage plus facile dans Spark DataFrames.\n",
    "    output = [p.flatten() for p in preds]\n",
    "    return pd.Series(output)\n",
    "\n",
    "#On applique le modèle dans un pandas UDF\n",
    "@pandas_udf('array<float>', functionType=PandasUDFType.SCALAR_ITER)\n",
    "def featurize_udf(content_series_iter):\n",
    "    '''\n",
    "    Cette méthode est une UDF Scalar Iterator pandas enveloppant la fonction d'extraction des features.\n",
    "    - Prend en entrée \"content_series_iter\", un itérateur sur des lots de données, où chaque lot est une\n",
    "      série de pandas de données d'image.\n",
    "    - Retourne une colonne Spark DataFrame de type ArrayType(FloatType).\n",
    "    '''\n",
    "    # Avec Scalar Iterator pandas UDFs, nous pouvons charger le modèle une fois puis le réutiliser\n",
    "    # pour plusieurs lots de données. Cela amortit les frais généraux liés au chargement de gros modèles.\n",
    "    model = model_fn()\n",
    "    for content_series in content_series_iter:\n",
    "        yield featurize_series(model, content_series)"
   ]
  },
  {
   "cell_type": "code",
   "execution_count": 18,
   "id": "978ac6fd",
   "metadata": {},
   "outputs": [],
   "source": [
    "# Les UDF de Pandas sur de grands enregistrements (par exemple, de très grandes images) peuvent rencontrer des erreurs de type Out Of Memory (OOM).\n",
    "# Si vous rencontrez de telles erreurs dans la cellule ci-dessous, essayez de réduire la taille du lot Arrow via `maxRecordsPerBatch\n",
    "spark.conf.set(\"spark.sql.execution.arrow.maxRecordsPerBatch\", \"1024\")"
   ]
  },
  {
   "cell_type": "code",
   "execution_count": 19,
   "id": "4e9ede11",
   "metadata": {},
   "outputs": [
    {
     "data": {
      "text/plain": [
       "1"
      ]
     },
     "execution_count": 19,
     "metadata": {},
     "output_type": "execute_result"
    }
   ],
   "source": [
    "#Regardons le nombre de partitions de images\n",
    "data_img.rdd.getNumPartitions()"
   ]
  },
  {
   "cell_type": "code",
   "execution_count": 20,
   "id": "124d5bb6",
   "metadata": {},
   "outputs": [],
   "source": [
    "#On garde les colonnes 'path', 'fruit','features' que l'on récupère à l'issue du préprocessing\n",
    "data_features = data_img.repartition(1).select(col('path'),col('fruit'),featurize_udf(\"content\").alias(\"features\"))"
   ]
  },
  {
   "cell_type": "code",
   "execution_count": 21,
   "id": "2d6b9862",
   "metadata": {},
   "outputs": [
    {
     "name": "stdout",
     "output_type": "stream",
     "text": [
      "+--------------------+--------------+--------------------+\n",
      "|                path|         fruit|            features|\n",
      "+--------------------+--------------+--------------------+\n",
      "|file:/C:/Users/la...|Apple Braeburn|[0.0, 0.0, 0.0, 0...|\n",
      "|file:/C:/Users/la...|Apple Braeburn|[0.0, 0.0, 0.0, 0...|\n",
      "|file:/C:/Users/la...|Apple Braeburn|[0.0, 0.0, 0.0, 0...|\n",
      "|file:/C:/Users/la...|Apple Braeburn|[0.0, 0.0, 0.0, 0...|\n",
      "|file:/C:/Users/la...|Apple Braeburn|[0.0, 0.0, 0.0, 0...|\n",
      "|file:/C:/Users/la...|Apple Braeburn|[0.0, 0.0, 0.0, 0...|\n",
      "|file:/C:/Users/la...|Apple Braeburn|[0.0, 0.0, 0.0, 0...|\n",
      "|file:/C:/Users/la...|Apple Braeburn|[0.0, 0.0, 0.0, 0...|\n",
      "|file:/C:/Users/la...|Apple Braeburn|[0.0, 0.0, 0.0, 0...|\n",
      "|file:/C:/Users/la...|Apple Braeburn|[0.0, 0.0, 0.0, 0...|\n",
      "+--------------------+--------------+--------------------+\n",
      "\n"
     ]
    }
   ],
   "source": [
    "#On affiche les 10 premières lignes\n",
    "data_features.show(10)"
   ]
  },
  {
   "cell_type": "markdown",
   "id": "3a3f1747",
   "metadata": {},
   "source": [
    "## <font color=\"red\" id=\"section_5\">5. Reduction de dimensions </font>"
   ]
  },
  {
   "cell_type": "markdown",
   "id": "a9e47b9e",
   "metadata": {},
   "source": [
    "## ACP"
   ]
  },
  {
   "cell_type": "markdown",
   "id": "18f09325",
   "metadata": {},
   "source": [
    "L'ACP forme un modèle pour projeter des vecteurs dans un espace dimensionnel inférieur\n",
    "des k composants principaux principaux"
   ]
  },
  {
   "cell_type": "markdown",
   "id": "0c736322",
   "metadata": {},
   "source": [
    "Commençons par convertir les features en vecteurs de features."
   ]
  },
  {
   "cell_type": "code",
   "execution_count": 22,
   "id": "42ef3ffc",
   "metadata": {},
   "outputs": [],
   "source": [
    "from pyspark.ml.linalg import Vectors, VectorUDT\n",
    "\n",
    "# Conversion au format vecteur dense\n",
    "ud_f = udf(lambda x: Vectors.dense(x), VectorUDT())\n",
    "data_vect = data_features.withColumn('features_vect', ud_f('features'))"
   ]
  },
  {
   "cell_type": "markdown",
   "id": "fcfa8ee3",
   "metadata": {},
   "source": [
    "On applique la transformation PCA pour réduire les dimensions de notre base de données."
   ]
  },
  {
   "cell_type": "code",
   "execution_count": 23,
   "id": "098862dd",
   "metadata": {},
   "outputs": [],
   "source": [
    "from pyspark.ml.feature import StandardScaler, PCA\n",
    "\n",
    "#On standardise les features\n",
    "scaler = StandardScaler(inputCol=\"features_vect\")\n",
    "scaler.setOutputCol(\"features_std\")\n",
    "data_fit=scaler.fit(data_vect)\n",
    "data_sc = data_fit.transform(data_vect)"
   ]
  },
  {
   "cell_type": "code",
   "execution_count": 24,
   "id": "08aa8e69",
   "metadata": {},
   "outputs": [
    {
     "name": "stdout",
     "output_type": "stream",
     "text": [
      "+--------------------+--------------+--------------------+--------------------+--------------------+\n",
      "|                path|         fruit|            features|       features_vect|        features_std|\n",
      "+--------------------+--------------+--------------------+--------------------+--------------------+\n",
      "|file:/C:/Users/la...|Apple Braeburn|[0.0, 0.0, 0.0, 0...|[0.0,0.0,0.0,0.0,...|[0.0,0.0,0.0,0.0,...|\n",
      "|file:/C:/Users/la...|Apple Braeburn|[0.0, 0.0, 0.0, 0...|[0.0,0.0,0.0,0.12...|[0.0,0.0,0.0,3.16...|\n",
      "|file:/C:/Users/la...|Apple Braeburn|[0.0, 0.0, 0.0, 0...|[0.0,0.0,0.0,0.0,...|[0.0,0.0,0.0,0.0,...|\n",
      "|file:/C:/Users/la...|Apple Braeburn|[0.0, 0.0, 0.0, 0...|[0.0,0.0,0.0,0.0,...|[0.0,0.0,0.0,0.0,...|\n",
      "|file:/C:/Users/la...|Apple Braeburn|[0.0, 0.0, 0.0, 0...|[0.0,0.0,0.0,0.0,...|[0.0,0.0,0.0,0.0,...|\n",
      "|file:/C:/Users/la...|Apple Braeburn|[0.0, 0.0, 0.0, 0...|[0.0,0.0,0.0,0.0,...|[0.0,0.0,0.0,0.0,...|\n",
      "|file:/C:/Users/la...|Apple Braeburn|[0.0, 0.0, 0.0, 0...|[0.0,0.0,0.0,0.0,...|[0.0,0.0,0.0,0.0,...|\n",
      "|file:/C:/Users/la...|Apple Braeburn|[0.0, 0.0, 0.0, 0...|[0.0,0.0,0.0,0.0,...|[0.0,0.0,0.0,0.0,...|\n",
      "|file:/C:/Users/la...|Apple Braeburn|[0.0, 0.0, 0.0, 0...|[0.0,0.0,0.0,0.0,...|[0.0,0.0,0.0,0.0,...|\n",
      "|file:/C:/Users/la...|Apple Braeburn|[0.0, 0.0, 0.0, 0...|[0.0,0.0,0.0,0.0,...|[0.0,0.0,0.0,0.0,...|\n",
      "+--------------------+--------------+--------------------+--------------------+--------------------+\n",
      "\n"
     ]
    }
   ],
   "source": [
    "data_sc.show()"
   ]
  },
  {
   "cell_type": "code",
   "execution_count": 25,
   "id": "8106b815",
   "metadata": {},
   "outputs": [],
   "source": [
    "# Transformation PCA sur les k premières composantes\n",
    "\n",
    "pca = PCA(k=20,inputCol='features_std',outputCol='features_pca')"
   ]
  },
  {
   "cell_type": "code",
   "execution_count": 26,
   "id": "5ff3055e",
   "metadata": {},
   "outputs": [],
   "source": [
    "#On entraine et transforme les données standardisées pour obtenir les données après transformation PCA\n",
    "model_pca=pca.fit(data_sc)\n",
    "data_pca = model_pca.transform(data_sc)\n",
    "data_pca = data_pca.filter(data_pca.features_pca.isNotNull())"
   ]
  },
  {
   "cell_type": "code",
   "execution_count": 27,
   "id": "4483a57a",
   "metadata": {},
   "outputs": [
    {
     "name": "stdout",
     "output_type": "stream",
     "text": [
      "+--------------------+--------------------+--------------------+--------------------+\n",
      "|            features|       features_vect|        features_std|        features_pca|\n",
      "+--------------------+--------------------+--------------------+--------------------+\n",
      "|[0.0, 0.0, 0.0, 0...|[0.0,0.0,0.0,0.0,...|[0.0,0.0,0.0,0.0,...|[66.0187261929501...|\n",
      "|[0.0, 0.0, 0.0, 0...|[0.0,0.0,0.0,0.12...|[0.0,0.0,0.0,3.16...|[80.2327033812707...|\n",
      "|[0.0, 0.0, 0.0, 0...|[0.0,0.0,0.0,0.0,...|[0.0,0.0,0.0,0.0,...|[54.1294498100166...|\n",
      "|[0.0, 0.0, 0.0, 0...|[0.0,0.0,0.0,0.0,...|[0.0,0.0,0.0,0.0,...|[65.6670396706145...|\n",
      "|[0.0, 0.0, 0.0, 0...|[0.0,0.0,0.0,0.0,...|[0.0,0.0,0.0,0.0,...|[64.6438638817896...|\n",
      "|[0.0, 0.0, 0.0, 0...|[0.0,0.0,0.0,0.0,...|[0.0,0.0,0.0,0.0,...|[65.5216379401284...|\n",
      "|[0.0, 0.0, 0.0, 0...|[0.0,0.0,0.0,0.0,...|[0.0,0.0,0.0,0.0,...|[-93.417004625013...|\n",
      "|[0.0, 0.0, 0.0, 0...|[0.0,0.0,0.0,0.0,...|[0.0,0.0,0.0,0.0,...|[54.5282055315515...|\n",
      "|[0.0, 0.0, 0.0, 0...|[0.0,0.0,0.0,0.0,...|[0.0,0.0,0.0,0.0,...|[-83.499604470547...|\n",
      "|[0.0, 0.0, 0.0, 0...|[0.0,0.0,0.0,0.0,...|[0.0,0.0,0.0,0.0,...|[-96.523181661748...|\n",
      "+--------------------+--------------------+--------------------+--------------------+\n",
      "\n"
     ]
    }
   ],
   "source": [
    "#On affiche les 10 premières lignes de data_pca\n",
    "data_pca.select(col('features'),col('features_vect'),col('features_std'),col('features_pca')).show(10)"
   ]
  },
  {
   "cell_type": "markdown",
   "id": "64d8104d",
   "metadata": {},
   "source": [
    "## Variance expliquée"
   ]
  },
  {
   "cell_type": "code",
   "execution_count": 28,
   "id": "6b97a026",
   "metadata": {},
   "outputs": [
    {
     "data": {
      "text/plain": [
       "array([ 31.45,  45.67,  55.84,  65.14,  73.75,  81.11,  88.23,  94.35,\n",
       "       100.  , 100.  ])"
      ]
     },
     "execution_count": 28,
     "metadata": {},
     "output_type": "execute_result"
    }
   ],
   "source": [
    "variance = np.round(100*model_pca.explainedVariance.toArray(),2).cumsum()\n",
    "variance"
   ]
  },
  {
   "cell_type": "code",
   "execution_count": 29,
   "id": "592c8d1e",
   "metadata": {},
   "outputs": [
    {
     "data": {
      "image/png": "[encoded data removed]",
      "text/plain": [
       "<Figure size 1400x700 with 1 Axes>"
      ]
     },
     "metadata": {},
     "output_type": "display_data"
    }
   ],
   "source": [
    "import matplotlib.pyplot as plt\n",
    "\n",
    "plt.figure(figsize=(14, 7))\n",
    "plt.plot(model_pca.explainedVariance.cumsum(), c='blue' , marker ='o')\n",
    "plt.ylabel(\"Variance cumulée\", fontsize= 15)\n",
    "plt.xlabel('Nbr de composantes principales', fontsize= 15)\n",
    "\n",
    "seuil = 90\n",
    "explained_variance = model_pca.explainedVariance*100\n",
    "cumsum_variance = explained_variance.cumsum()\n",
    "\n",
    "X_idx = np.where(cumsum_variance >= seuil)[0]\n",
    "nb_composante = X_idx[cumsum_variance[X_idx].argmin()]+1\n",
    "plt.axvline(x=nb_composante, linestyle=\"--\", color=\"red\",linewidth=2)\n",
    "\n",
    "plt.title(\"{}% de la variance totale est expliquée\"\\\n",
    "            \" par les {} premiers axes\".format(seuil,nb_composante))\n",
    "\n",
    "plt.show()"
   ]
  },
  {
   "cell_type": "markdown",
   "id": "3e336d53",
   "metadata": {},
   "source": [
    "## <font color=\"red\" id=\"section_6\">6. Sauvegarde des données au format paquet </font>"
   ]
  },
  {
   "cell_type": "code",
   "execution_count": 31,
   "id": "fda1bd69",
   "metadata": {},
   "outputs": [],
   "source": [
    "data_final = data_pca.select(col('path'), col('fruit'), col('features_pca'))"
   ]
  },
  {
   "cell_type": "code",
   "execution_count": 32,
   "id": "38515633",
   "metadata": {},
   "outputs": [
    {
     "name": "stdout",
     "output_type": "stream",
     "text": [
      "+--------------------+--------------+--------------------+\n",
      "|                path|         fruit|        features_pca|\n",
      "+--------------------+--------------+--------------------+\n",
      "|file:/C:/Users/la...|Apple Braeburn|[66.0187261929501...|\n",
      "|file:/C:/Users/la...|Apple Braeburn|[80.2327033812707...|\n",
      "|file:/C:/Users/la...|Apple Braeburn|[54.1294498100166...|\n",
      "|file:/C:/Users/la...|Apple Braeburn|[65.6670396706145...|\n",
      "|file:/C:/Users/la...|Apple Braeburn|[64.6438638817896...|\n",
      "|file:/C:/Users/la...|Apple Braeburn|[65.5216379401284...|\n",
      "|file:/C:/Users/la...|Apple Braeburn|[-93.417004625013...|\n",
      "|file:/C:/Users/la...|Apple Braeburn|[54.5282055315515...|\n",
      "|file:/C:/Users/la...|Apple Braeburn|[-83.499604470547...|\n",
      "|file:/C:/Users/la...|Apple Braeburn|[-96.523181661748...|\n",
      "+--------------------+--------------+--------------------+\n",
      "\n"
     ]
    }
   ],
   "source": [
    "data_final.show()"
   ]
  },
  {
   "cell_type": "markdown",
   "id": "b9514e8c",
   "metadata": {},
   "source": [
    "On enregistre les résultats de l'ACP (après modélisation) au format parquet."
   ]
  },
  {
   "cell_type": "code",
   "execution_count": 33,
   "id": "bae41e9d",
   "metadata": {},
   "outputs": [],
   "source": [
    "data_final.write.mode(\"overwrite\").parquet(Chemin_Res)"
   ]
  }
 ],
 "metadata": {
  "kernelspec": {
   "display_name": "Python 3 (ipykernel)",
   "language": "python",
   "name": "python3"
  },
  "language_info": {
   "codemirror_mode": {
    "name": "ipython",
    "version": 3
   },
   "file_extension": ".py",
   "mimetype": "text/x-python",
   "name": "python",
   "nbconvert_exporter": "python",
   "pygments_lexer": "ipython3",
   "version": "3.9.12"
  }
 },
 "nbformat": 4,
 "nbformat_minor": 5
}
